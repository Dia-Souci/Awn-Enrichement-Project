{
  "cells": [
    {
      "cell_type": "code",
      "execution_count": null,
      "metadata": {
        "colab": {
          "base_uri": "https://localhost:8080/"
        },
        "id": "Nz-PNTLDWxFO",
        "outputId": "5b19454f-4fdf-4f40-f2cd-09015dc76e5a"
      },
      "outputs": [
        {
          "output_type": "stream",
          "name": "stdout",
          "text": [
            "Looking in indexes: https://pypi.org/simple, https://us-python.pkg.dev/colab-wheels/public/simple/\n",
            "Collecting transformers\n",
            "  Downloading transformers-4.30.2-py3-none-any.whl (7.2 MB)\n",
            "\u001b[2K     \u001b[90m━━━━━━━━━━━━━━━━━━━━━━━━━━━━━━━━━━━━━━━━\u001b[0m \u001b[32m7.2/7.2 MB\u001b[0m \u001b[31m53.2 MB/s\u001b[0m eta \u001b[36m0:00:00\u001b[0m\n",
            "\u001b[?25hCollecting datasets\n",
            "  Downloading datasets-2.13.1-py3-none-any.whl (486 kB)\n",
            "\u001b[2K     \u001b[90m━━━━━━━━━━━━━━━━━━━━━━━━━━━━━━━━━━━━━━\u001b[0m \u001b[32m486.2/486.2 kB\u001b[0m \u001b[31m45.8 MB/s\u001b[0m eta \u001b[36m0:00:00\u001b[0m\n",
            "\u001b[?25hRequirement already satisfied: filelock in /usr/local/lib/python3.10/dist-packages (from transformers) (3.12.2)\n",
            "Collecting huggingface-hub<1.0,>=0.14.1 (from transformers)\n",
            "  Downloading huggingface_hub-0.15.1-py3-none-any.whl (236 kB)\n",
            "\u001b[2K     \u001b[90m━━━━━━━━━━━━━━━━━━━━━━━━━━━━━━━━━━━━━━\u001b[0m \u001b[32m236.8/236.8 kB\u001b[0m \u001b[31m32.5 MB/s\u001b[0m eta \u001b[36m0:00:00\u001b[0m\n",
            "\u001b[?25hRequirement already satisfied: numpy>=1.17 in /usr/local/lib/python3.10/dist-packages (from transformers) (1.22.4)\n",
            "Requirement already satisfied: packaging>=20.0 in /usr/local/lib/python3.10/dist-packages (from transformers) (23.1)\n",
            "Requirement already satisfied: pyyaml>=5.1 in /usr/local/lib/python3.10/dist-packages (from transformers) (6.0)\n",
            "Requirement already satisfied: regex!=2019.12.17 in /usr/local/lib/python3.10/dist-packages (from transformers) (2022.10.31)\n",
            "Requirement already satisfied: requests in /usr/local/lib/python3.10/dist-packages (from transformers) (2.27.1)\n",
            "Collecting tokenizers!=0.11.3,<0.14,>=0.11.1 (from transformers)\n",
            "  Downloading tokenizers-0.13.3-cp310-cp310-manylinux_2_17_x86_64.manylinux2014_x86_64.whl (7.8 MB)\n",
            "\u001b[2K     \u001b[90m━━━━━━━━━━━━━━━━━━━━━━━━━━━━━━━━━━━━━━━━\u001b[0m \u001b[32m7.8/7.8 MB\u001b[0m \u001b[31m102.3 MB/s\u001b[0m eta \u001b[36m0:00:00\u001b[0m\n",
            "\u001b[?25hCollecting safetensors>=0.3.1 (from transformers)\n",
            "  Downloading safetensors-0.3.1-cp310-cp310-manylinux_2_17_x86_64.manylinux2014_x86_64.whl (1.3 MB)\n",
            "\u001b[2K     \u001b[90m━━━━━━━━━━━━━━━━━━━━━━━━━━━━━━━━━━━━━━━━\u001b[0m \u001b[32m1.3/1.3 MB\u001b[0m \u001b[31m70.7 MB/s\u001b[0m eta \u001b[36m0:00:00\u001b[0m\n",
            "\u001b[?25hRequirement already satisfied: tqdm>=4.27 in /usr/local/lib/python3.10/dist-packages (from transformers) (4.65.0)\n",
            "Requirement already satisfied: pyarrow>=8.0.0 in /usr/local/lib/python3.10/dist-packages (from datasets) (9.0.0)\n",
            "Collecting dill<0.3.7,>=0.3.0 (from datasets)\n",
            "  Downloading dill-0.3.6-py3-none-any.whl (110 kB)\n",
            "\u001b[2K     \u001b[90m━━━━━━━━━━━━━━━━━━━━━━━━━━━━━━━━━━━━━━\u001b[0m \u001b[32m110.5/110.5 kB\u001b[0m \u001b[31m16.8 MB/s\u001b[0m eta \u001b[36m0:00:00\u001b[0m\n",
            "\u001b[?25hRequirement already satisfied: pandas in /usr/local/lib/python3.10/dist-packages (from datasets) (1.5.3)\n",
            "Collecting xxhash (from datasets)\n",
            "  Downloading xxhash-3.2.0-cp310-cp310-manylinux_2_17_x86_64.manylinux2014_x86_64.whl (212 kB)\n",
            "\u001b[2K     \u001b[90m━━━━━━━━━━━━━━━━━━━━━━━━━━━━━━━━━━━━━━\u001b[0m \u001b[32m212.5/212.5 kB\u001b[0m \u001b[31m26.6 MB/s\u001b[0m eta \u001b[36m0:00:00\u001b[0m\n",
            "\u001b[?25hCollecting multiprocess (from datasets)\n",
            "  Downloading multiprocess-0.70.14-py310-none-any.whl (134 kB)\n",
            "\u001b[2K     \u001b[90m━━━━━━━━━━━━━━━━━━━━━━━━━━━━━━━━━━━━━━\u001b[0m \u001b[32m134.3/134.3 kB\u001b[0m \u001b[31m18.5 MB/s\u001b[0m eta \u001b[36m0:00:00\u001b[0m\n",
            "\u001b[?25hRequirement already satisfied: fsspec[http]>=2021.11.1 in /usr/local/lib/python3.10/dist-packages (from datasets) (2023.6.0)\n",
            "Collecting aiohttp (from datasets)\n",
            "  Downloading aiohttp-3.8.4-cp310-cp310-manylinux_2_17_x86_64.manylinux2014_x86_64.whl (1.0 MB)\n",
            "\u001b[2K     \u001b[90m━━━━━━━━━━━━━━━━━━━━━━━━━━━━━━━━━━━━━━━━\u001b[0m \u001b[32m1.0/1.0 MB\u001b[0m \u001b[31m37.1 MB/s\u001b[0m eta \u001b[36m0:00:00\u001b[0m\n",
            "\u001b[?25hRequirement already satisfied: attrs>=17.3.0 in /usr/local/lib/python3.10/dist-packages (from aiohttp->datasets) (23.1.0)\n",
            "Requirement already satisfied: charset-normalizer<4.0,>=2.0 in /usr/local/lib/python3.10/dist-packages (from aiohttp->datasets) (2.0.12)\n",
            "Collecting multidict<7.0,>=4.5 (from aiohttp->datasets)\n",
            "  Downloading multidict-6.0.4-cp310-cp310-manylinux_2_17_x86_64.manylinux2014_x86_64.whl (114 kB)\n",
            "\u001b[2K     \u001b[90m━━━━━━━━━━━━━━━━━━━━━━━━━━━━━━━━━━━━━━\u001b[0m \u001b[32m114.5/114.5 kB\u001b[0m \u001b[31m15.7 MB/s\u001b[0m eta \u001b[36m0:00:00\u001b[0m\n",
            "\u001b[?25hCollecting async-timeout<5.0,>=4.0.0a3 (from aiohttp->datasets)\n",
            "  Downloading async_timeout-4.0.2-py3-none-any.whl (5.8 kB)\n",
            "Collecting yarl<2.0,>=1.0 (from aiohttp->datasets)\n",
            "  Downloading yarl-1.9.2-cp310-cp310-manylinux_2_17_x86_64.manylinux2014_x86_64.whl (268 kB)\n",
            "\u001b[2K     \u001b[90m━━━━━━━━━━━━━━━━━━━━━━━━━━━━━━━━━━━━━━\u001b[0m \u001b[32m268.8/268.8 kB\u001b[0m \u001b[31m30.2 MB/s\u001b[0m eta \u001b[36m0:00:00\u001b[0m\n",
            "\u001b[?25hCollecting frozenlist>=1.1.1 (from aiohttp->datasets)\n",
            "  Downloading frozenlist-1.3.3-cp310-cp310-manylinux_2_5_x86_64.manylinux1_x86_64.manylinux_2_17_x86_64.manylinux2014_x86_64.whl (149 kB)\n",
            "\u001b[2K     \u001b[90m━━━━━━━━━━━━━━━━━━━━━━━━━━━━━━━━━━━━━━\u001b[0m \u001b[32m149.6/149.6 kB\u001b[0m \u001b[31m16.6 MB/s\u001b[0m eta \u001b[36m0:00:00\u001b[0m\n",
            "\u001b[?25hCollecting aiosignal>=1.1.2 (from aiohttp->datasets)\n",
            "  Downloading aiosignal-1.3.1-py3-none-any.whl (7.6 kB)\n",
            "Requirement already satisfied: typing-extensions>=3.7.4.3 in /usr/local/lib/python3.10/dist-packages (from huggingface-hub<1.0,>=0.14.1->transformers) (4.6.3)\n",
            "Requirement already satisfied: urllib3<1.27,>=1.21.1 in /usr/local/lib/python3.10/dist-packages (from requests->transformers) (1.26.16)\n",
            "Requirement already satisfied: certifi>=2017.4.17 in /usr/local/lib/python3.10/dist-packages (from requests->transformers) (2023.5.7)\n",
            "Requirement already satisfied: idna<4,>=2.5 in /usr/local/lib/python3.10/dist-packages (from requests->transformers) (3.4)\n",
            "Requirement already satisfied: python-dateutil>=2.8.1 in /usr/local/lib/python3.10/dist-packages (from pandas->datasets) (2.8.2)\n",
            "Requirement already satisfied: pytz>=2020.1 in /usr/local/lib/python3.10/dist-packages (from pandas->datasets) (2022.7.1)\n",
            "Requirement already satisfied: six>=1.5 in /usr/local/lib/python3.10/dist-packages (from python-dateutil>=2.8.1->pandas->datasets) (1.16.0)\n",
            "Installing collected packages: tokenizers, safetensors, xxhash, multidict, frozenlist, dill, async-timeout, yarl, multiprocess, huggingface-hub, aiosignal, transformers, aiohttp, datasets\n",
            "Successfully installed aiohttp-3.8.4 aiosignal-1.3.1 async-timeout-4.0.2 datasets-2.13.1 dill-0.3.6 frozenlist-1.3.3 huggingface-hub-0.15.1 multidict-6.0.4 multiprocess-0.70.14 safetensors-0.3.1 tokenizers-0.13.3 transformers-4.30.2 xxhash-3.2.0 yarl-1.9.2\n"
          ]
        }
      ],
      "source": [
        "! pip install transformers datasets"
      ]
    },
    {
      "cell_type": "code",
      "execution_count": null,
      "metadata": {
        "colab": {
          "base_uri": "https://localhost:8080/"
        },
        "id": "JpgmVcrq60g8",
        "outputId": "df831b15-c136-41da-9729-31dd6b02234a"
      },
      "outputs": [
        {
          "output_type": "stream",
          "name": "stdout",
          "text": [
            "Mounted at /content/drive\n"
          ]
        }
      ],
      "source": [
        "from google.colab import drive\n",
        "drive.mount('/content/drive')"
      ]
    },
    {
      "cell_type": "code",
      "execution_count": null,
      "metadata": {
        "colab": {
          "base_uri": "https://localhost:8080/"
        },
        "id": "J-76S6vT7Bei",
        "outputId": "d4ff6400-bbfc-4481-d608-cd398447d823"
      },
      "outputs": [
        {
          "output_type": "stream",
          "name": "stdout",
          "text": [
            "['لا يمكنك أن تتخلّى عن سلامة أختك من أجل الحب فقط.\\t1', 'أنا على ثقة بأنك لن تتخلى عن إدانتك من أجل الربح.\\t1', 'حسنًا، الرجل النبيل يجب ألا يهجر زوجته المخلصة.\\t1', 'والمزارعون الذين لا يستطيعون البقاء في البيئة الجديدة يهجرون الزراعة.\\t1', 'إنه لن يتخلى أبداً عروسته الجديدة أو ابنه الصغير بهذه الطريقة.\\t1', 'إن كان صديقي مدمن مخدرات، لما تخليت عنه.\\t1', 'وقال انه سوف يتخلى عن أصدقائه إذا كان يخاطر العاصمة سمعته.\\t1', 'العديد من العملاء يتخلون عن مشترياتهم في الخطوة الأخيرة.\\t1', 'وأنا، شخصيا، لن أتخلى عن إخوتنا وأخواتنا هناك.\\t1', 'أثناء القلي، يجب أن تتخلى عن استخدام كميات كبيرة من الدهون.\\t1']\n"
          ]
        }
      ],
      "source": [
        "with open('/content/drive/MyDrive/model/correctsentences.txt','r',encoding ='utf-8') as f :\n",
        "  lines = f.readlines()\n",
        "  lines = [line.strip() for line in lines]\n",
        "\n",
        "print(lines[:10])"
      ]
    },
    {
      "cell_type": "code",
      "execution_count": null,
      "metadata": {
        "id": "PGi7a-a17h1U"
      },
      "outputs": [],
      "source": [
        "lines = [line.split('\\t') for line in lines]\n"
      ]
    },
    {
      "cell_type": "code",
      "execution_count": null,
      "metadata": {
        "colab": {
          "base_uri": "https://localhost:8080/"
        },
        "id": "pjSdpkvpjR2r",
        "outputId": "71a588d0-50ea-4dd0-cd58-16bba6420434"
      },
      "outputs": [
        {
          "output_type": "stream",
          "name": "stdout",
          "text": [
            "[['لا يمكنك أن تتخلّى عن سلامة أختك من أجل الحب فقط.', '1'], ['أنا على ثقة بأنك لن تتخلى عن إدانتك من أجل الربح.', '1'], ['حسنًا، الرجل النبيل يجب ألا يهجر زوجته المخلصة.', '1'], ['والمزارعون الذين لا يستطيعون البقاء في البيئة الجديدة يهجرون الزراعة.', '1'], ['إنه لن يتخلى أبداً عروسته الجديدة أو ابنه الصغير بهذه الطريقة.', '1'], ['إن كان صديقي مدمن مخدرات، لما تخليت عنه.', '1'], ['وقال انه سوف يتخلى عن أصدقائه إذا كان يخاطر العاصمة سمعته.', '1'], ['العديد من العملاء يتخلون عن مشترياتهم في الخطوة الأخيرة.', '1'], ['وأنا، شخصيا، لن أتخلى عن إخوتنا وأخواتنا هناك.', '1'], ['أثناء القلي، يجب أن تتخلى عن استخدام كميات كبيرة من الدهون.', '1']]\n"
          ]
        }
      ],
      "source": [
        "print(lines[:10])"
      ]
    },
    {
      "cell_type": "code",
      "execution_count": null,
      "metadata": {
        "colab": {
          "base_uri": "https://localhost:8080/"
        },
        "id": "lmRyd10_76m6",
        "outputId": "f6fa13a5-c832-4700-b339-7802b37f3215"
      },
      "outputs": [
        {
          "output_type": "stream",
          "name": "stdout",
          "text": [
            "1\n"
          ]
        }
      ],
      "source": [
        "print(lines[0][1])"
      ]
    },
    {
      "cell_type": "code",
      "execution_count": null,
      "metadata": {
        "colab": {
          "base_uri": "https://localhost:8080/"
        },
        "id": "ruLyFPcC8A3H",
        "outputId": "ee309940-06e8-440f-fc44-93eb3028c11e"
      },
      "outputs": [
        {
          "output_type": "stream",
          "name": "stdout",
          "text": [
            "['تست reasons طيع السباحة with', 'لا  because يمكنك الوصول إلى البلدة بدون سيارة for', 'سطح towards  رصاصة هو الجانب الأيسر أو الجانب الذي يواجه name)', 'الج name) انب الأعلى من الدائرة معروف بـ السطح المقطعيّة towards', 'الف with تيات المرجانية المرجانية reasons', 'إن  word جمهورية متطرفة هي جمهورية متطرفة، وهي جمهورية متطرف a', 'a ج a زئي جزئي جزئي يمكن أن يكون جزئياً for', 'رجل the  يحتضر till', 'مري last ض مجنون word', 'كلم till ته الأخيرة towards']\n"
          ]
        }
      ],
      "source": [
        "import random\n",
        "\n",
        "with open('/content/drive/MyDrive/model/Examplesclean.txt','r',encoding ='utf-8') as f :\n",
        "  lines2 = f.readlines()\n",
        "  lines2 = [line.strip() for line in lines2]\n",
        "\n",
        "wrongMap = {\n",
        "    13:'mix',\n",
        "    12:'for',\n",
        "    11:'to',\n",
        "    10:'far',\n",
        "    9:'till',\n",
        "    8:'last',\n",
        "    7:'the',\n",
        "    6:'a',\n",
        "    5:'word',\n",
        "    4: 'with',\n",
        "    3 : 'name)',\n",
        "    2 : 'towards' ,\n",
        "    1 : 'because' ,\n",
        "    0 : 'reasons',\n",
        "}\n",
        "\n",
        "for i,line in enumerate(lines2) :\n",
        "  random_number = random.randint(0, 12)\n",
        "  if(random_number == 13):\n",
        "    lines2[i]=line[ : 3] + ' ' +line[3] + ' ' + line[3 : ] + ' '+ wrongMap[i % 13]\n",
        "  else:\n",
        "    lines2[i]=line[ : 3] + ' ' +wrongMap[i % 13] + ' '+ line[3 : ] + ' '+ wrongMap[random_number]\n",
        "print(lines2[:10])"
      ]
    },
    {
      "cell_type": "code",
      "execution_count": null,
      "metadata": {
        "colab": {
          "base_uri": "https://localhost:8080/"
        },
        "id": "cQ1k73m_K00H",
        "outputId": "331dd7ac-250e-4ce4-e065-bb4b2e37f0e9"
      },
      "outputs": [
        {
          "output_type": "stream",
          "name": "stdout",
          "text": [
            "79717\n"
          ]
        }
      ],
      "source": [
        "print(len(lines2))"
      ]
    },
    {
      "cell_type": "code",
      "execution_count": null,
      "metadata": {
        "colab": {
          "base_uri": "https://localhost:8080/"
        },
        "id": "SO6BhwKJpIH8",
        "outputId": "62a9cd7e-5c45-4ab5-803b-7af4790d10fb"
      },
      "outputs": [
        {
          "output_type": "stream",
          "name": "stdout",
          "text": [
            "['المسرح', 'تعبئة', '', 'name)', 'reasons', 'تم']\n"
          ]
        }
      ],
      "source": [
        "len_2 = len(lines2)\n",
        "mod = len_2 % 4\n",
        "div  = (len_2-mod)/4\n",
        "count = div*3\n",
        "verbose = True\n",
        "for idx, line in enumerate(lines2):\n",
        "  if idx >=count :\n",
        "    scramble = line.split(' ')\n",
        "    random.shuffle(scramble)\n",
        "    if verbose :\n",
        "      print(scramble)\n",
        "      verbose = False\n",
        "    str_shuffle  = ''\n",
        "    for e in scramble :\n",
        "      str_shuffle += e + ' '\n",
        "    lines2[idx]= str_shuffle\n"
      ]
    },
    {
      "cell_type": "code",
      "execution_count": null,
      "metadata": {
        "colab": {
          "base_uri": "https://localhost:8080/"
        },
        "id": "pjsMlhjbIcra",
        "outputId": "c70444ea-bf69-493c-9637-5ed89d270fde"
      },
      "outputs": [
        {
          "output_type": "stream",
          "name": "stdout",
          "text": [
            "['تست reasons طيع السباحة with\\t0', 'لا  because يمكنك الوصول إلى البلدة بدون سيارة for\\t0', 'سطح towards  رصاصة هو الجانب الأيسر أو الجانب الذي يواجه name)\\t0', 'الج name) انب الأعلى من الدائرة معروف بـ السطح المقطعيّة towards\\t0', 'الف with تيات المرجانية المرجانية reasons\\t0', 'إن  word جمهورية متطرفة هي جمهورية متطرفة، وهي جمهورية متطرف a\\t0', 'a ج a زئي جزئي جزئي يمكن أن يكون جزئياً for\\t0', 'رجل the  يحتضر till\\t0', 'مري last ض مجنون word\\t0', 'كلم till ته الأخيرة towards\\t0']\n"
          ]
        }
      ],
      "source": [
        "for i , line in enumerate(lines2):\n",
        "  lines2[i] = line + '\\t' + '0'\n",
        "\n",
        "print(lines2[:10])"
      ]
    },
    {
      "cell_type": "code",
      "execution_count": null,
      "metadata": {
        "colab": {
          "base_uri": "https://localhost:8080/"
        },
        "id": "8WrBXRZvKHwo",
        "outputId": "fbc5aa3a-d0b2-4b36-b3d4-668c6a44f1bb"
      },
      "outputs": [
        {
          "output_type": "stream",
          "name": "stdout",
          "text": [
            "0\n"
          ]
        }
      ],
      "source": [
        "lines2 = [line.split('\\t') for line in lines2]\n",
        "print(lines2[0][1])"
      ]
    },
    {
      "cell_type": "code",
      "execution_count": null,
      "metadata": {
        "id": "zJDyDRvnKTHy"
      },
      "outputs": [],
      "source": [
        "lines = lines + lines2"
      ]
    },
    {
      "cell_type": "code",
      "execution_count": null,
      "metadata": {
        "colab": {
          "base_uri": "https://localhost:8080/"
        },
        "id": "b5kO6q13Kh_B",
        "outputId": "26e1617b-14b3-43f1-c415-deff9492d43b"
      },
      "outputs": [
        {
          "output_type": "stream",
          "name": "stdout",
          "text": [
            "[['يَجِبُ الموسيقى word تَ  أَنْ towards هذه ', '0'], ['هذه الأنواع. for a  الأنواع هذه على يؤثر ', '0'], ['التي الرئيسية الأمين ضمن وردت فيها ورقة وتت الأفكار الوحدة till العام the ', '0'], ['meager last supplemented diet. onoids because lav his ', '0'], ['في إلى because قدر السلطة till أكبر الدخل من ويت التجارية النمو رجم ', '0'], ['الحساسة لا بسهولة هذه far تنمو المصنعات with  ', '0'], ['to - أن على التي المجتمعات تنص المبادئ last ثال عليها ثا ', '0'], ['للدين أن يمكن with كن الاجتماعية أن for يمكن للجماعات ويم أن ', '0'], ['زوج الأثاث الحديث reasons الحديدي على تي تؤثر far ', '0'], ['because اب الب أَ till يَجِبُ يَضْبطُ... ', '0'], ['towards الأسهم الجمعة عالياً هذا أغلق سوق  a ', '0'], ['في name) word جبل رأس النهر جبل الجبل هذه جبل على  ', '0'], ['واسع على نطاق الأهمية توزيع a - ثال ثاً with ', '0'], ['word على reasons بتزويد وم وتق القيم نطاق واسع الموظفة حتى ', '0'], [' المتحدة الأمم a وقد صندوق far كبدة رفضت هيئة رئاسة ', '0'], ['عقود في دفعت the السياسة، the 3 كاليفورنيا د وبع إلى ', '0'], ['المفترض تخرج last  هنا أن من من last ', '0'], ['الشمس كان ضوء تتجمد البلدة ت till till تحت ', '0'], ['فيها كانت التي المشاعر الغريب كان far ت تسكن عقلها till ', '0'], ['الل حم في word قطعة يَسْبحُ a لحمِ to كان ', '0'], [' بعد يَسْبحُ شامبانيا last زجاجةِ for دمي ', '0'], ['في المختبر نضع towards الجديد المشروع  هذا reasons سوف ', '0'], ['because تنتمي السياسي الحزب إنه to نفسه. ا إلى ', '0'], ['أكثر، بعض نتوقع أن كان  till towards يُمطر إذا يمكننا ', '0'], ['name) كانوا الم a طر، و ينقطون الثلج الثلج ', '0'], ['with كانت الب تضرب على name) وجهنا ندقية ', '0'], ['لاحق إلى الحديدي صياح صباح اله الصباح وصل واء في word a وقت ', '0'], ['رائعاً to a المشي عند يكون ينتهي يمكن الصيف أن ما ', '0'], ['استنفدت أكثر من أستر نصف the for الأرصاد الجوية هيئة  لقد ', '0'], [' الطرق وضعها لكن فقط، جميلة last last تم للغاية لقد ', '0'], ['يضرب  ضع معطفك till على إنه خارجاً! far المائي ', '0'], ['أثناء طر the كَانَ الم طقم يَسْمعُ far ', '0'], ['till nArabic to Typesetting\\\\fs25\\\\fnArabic {\\\\f Typesetting\\\\f ', '0'], ['ما الأجنحة، عند أن جاءت with for الطيار ي اضطر على ', '0'], ['متجمد في  إنه \"كلاازيو\" reasons name) ', '0'], ['a الليلِ هو طوال كَانَ يَسْقسُ  كَ because ', '0'], ['towards لقد كانت ساعة لمدة  هادئة till ', '0'], ['الحرارة على far اذا name) المحتمل انخفضت من  ارتفاع الحرارة ان ', '0'], ['السماء (هاغواي) يبد في تضرب last طقس كانت أن و with ', '0'], ['أَنْ ت word يُمْكِنُ word العظيمة رارة الح ', '0'], ['a مشتعلة إلى a ق الغابة حري للغابة ', '0'], ['للناس ياح the الرياح القوية to الر رفعت الهادئة ', '0'], ['-إضغط على الأنوار الأنوار last على word -إض غط ', '0'], [' till فجأة ضربت غازات لقد (مارشال) the ', '0'], ['فط جيداً ينزف far الن a ', '0'], ['النار to to قُبض ريق على الح ', '0'], ['في مطعم الف ول أخيراً for a يعلق الشوكولا أخيراً ', '0'], ['اللون تجعل السماء reasons الجوز مع اللون و و مس الأحمر الش كانت last ', '0'], ['ينتشر شب ينتشر، because ريفي الأضواء من المتجمد to الع ', '0'], ['إطلاق يتم من  الغابة أفضل name) سراح مكان جداً towards في أن الجميل ', '0'], ['من تعرضت بعض الإشعاعات، name) reasons وقد أشكال  حياة خلال ', '0'], ['مس الضباب with حرقت من الش for ', '0'], ['كُل يَمْكِ word ّ word نجم يَبْدو ', '0'], ['سما الانفجار الكبير مع ء ظهرت word a الليل ', '0'], ['؟ the  last نجم ما يلمع الشمس ', '0'], ['بوا الضوء النافذة من على راق reasons last فضلكم تلك ', '0'], ['يبد (بيك) يغوص في القمر till أن till و ضوء ', '0'], ['reasons كانت far معة مفتوحة الش تماماً ', '0'], ['كانت جميلة الش مس ذلك to اليوم to ', '0'], ['ماء الثعبان طول على الس with بسرعة تلمع for ', '0'], ['الح مرة أخرى the مرة reasons و ظهرت ماتت أخرى ريق ', '0'], ['because مس وحيداً أن الصيف الش reasons رمادًا يمكن يسبب ', '0'], ['الغلاف عبر ريخ towards الجوي عبر الم till الغلاف الجوي يضرب ', '0'], ['يَمْكِنُ name) هَل a أَنْ ْ ', '0'], ['سطح ظهر على البحيرة من نفسها with word الق مر ', '0'], ['جوز مثل يبدو reasons الهند word يبدو طويلة سحا بة ', '0'], ['يتبع نجم المشكلة the كل أسود a  ', '0'], ['ازدهار من من وال the يزداد كثير الاقتصاد العمال في towards الحالي عدد ', '0'], ['last till - - الطريق ك بعناية تحر يعكس الرطب ', '0'], ['تماماً  لقد التل جانب a على جميلة till كانت ', '0'], ['عالية، من قبل قطع to متوترة أخذت عاصفة، far ة ', '0'], ['قذف to ر أكب الليل يمثل الأرض على العلامة التي في far ', '0'], ['for حرارة تثير مس الحرارة a الش ', '0'], ['يَضْبطُ ة reasons الضوء بعض towards منطقة طبق اللون ', '0'], ['التي و because الم على عليها يطلق reasons مصنوعة ادة نطاق ', '0'], ['يطلق على towards وجه لقد last النار الأرض المتوحشا  كان ', '0'], ['name) ينتظر ركس) الشمس في far (ما ', '0'], ['أطلقت من with فمه والأذلال الهواء with النار على  لقد ', '0'], ['البرج word a يَمْكِنُ  ذلك مِ last لوراي ', '0'], ['a غاب المطر for هادئة حرفياً كانت ة ', '0'], ['الظلام far السوداء ول الف كانت في the تلمع ', '0'], ['الاستنشاق last the حوض القضبان يزال  ينخفض إلى لا ', '0'], ['من last ياح تنزف الر till الغرب ', '0'], ['الليالي far تنتشر على الشاطئ إنه for ا الشاطئ معظم في ', '0'], ['الحقيبة أن بالضبط يمكن السريع ترتبط  last to هذه لنا ', '0'], ['to الباب عل نست من خلال for ', '0'], ['كَانَ هو طوال reasons  يَحَدُّثُ الليلِ reasons ', '0'], ['الذي word رأس يرى الأمر، الرأس عند البحار ما because ينتهي ', '0'], ['إذا إلى عاصفة سنحتاج  هناك مأوى far كان towards ', '0'], ['name) جنوبية على الشاطئ مكس على مغطاة till ورة الشاطئ ', '0'], ['ما عند السرير with with كلبي ينتم يزحف تحت ', '0'], ['الز with لزال ما word يزعج شاطئنا كثيراً ', '0'], ['a أغمضت البحر على far ماء سطح الس ', '0'], ['بعد أغلقت العاصفة ماء with the الس ', '0'], ['الحديقة المطر because يبدو كما ثير يزعج الك last من يمكن أن ', '0'], ['زلج الم أغرق هاربورن في last قارب كل till ', '0'], ['نظيف far towards يجري في هر الصيف الن ', '0'], ['الد الرياح كانت to till هادئة تماماً ائرة ', '0'], ['for ، till ن شيء المطر بدو الغابة سوف يقتل كل النار ', '0'], ['reasons name) هذه أن تكون ب ويج عندما الرعاية يتم الم إجراء ', '0']]\n"
          ]
        }
      ],
      "source": [
        "print(lines[-100:])"
      ]
    },
    {
      "cell_type": "code",
      "execution_count": null,
      "metadata": {
        "id": "imNvM1uvLIU9"
      },
      "outputs": [],
      "source": [
        "import numpy as np\n",
        "\n",
        "data = np.array(lines)"
      ]
    },
    {
      "cell_type": "code",
      "execution_count": null,
      "metadata": {
        "id": "12PLa_WmKkwb"
      },
      "outputs": [],
      "source": [
        "for i,line in enumerate(lines) :\n",
        "  lines[i]= np.array(line)"
      ]
    },
    {
      "cell_type": "code",
      "execution_count": null,
      "metadata": {
        "colab": {
          "base_uri": "https://localhost:8080/"
        },
        "id": "OsE7m0qmL9WS",
        "outputId": "ab979689-0b7e-48a1-9950-8a026b92efd9"
      },
      "outputs": [
        {
          "output_type": "stream",
          "name": "stdout",
          "text": [
            "<class 'numpy.str_'>\n"
          ]
        }
      ],
      "source": [
        "print(type(data[0][0]))"
      ]
    },
    {
      "cell_type": "code",
      "execution_count": null,
      "metadata": {
        "id": "4ylxi42WL_H-"
      },
      "outputs": [],
      "source": [
        "for i,line in enumerate(data) :\n",
        "  data[i][1]= int(line[1])"
      ]
    },
    {
      "cell_type": "code",
      "execution_count": null,
      "metadata": {
        "colab": {
          "base_uri": "https://localhost:8080/"
        },
        "id": "FXMhGVcMMihJ",
        "outputId": "54451108-8fae-4541-87c4-bb33f31b5988"
      },
      "outputs": [
        {
          "output_type": "stream",
          "name": "stdout",
          "text": [
            "<class 'numpy.ndarray'>\n"
          ]
        }
      ],
      "source": [
        "print(type(data))"
      ]
    },
    {
      "cell_type": "code",
      "execution_count": null,
      "metadata": {
        "colab": {
          "base_uri": "https://localhost:8080/"
        },
        "id": "1pGNT8-sMzNY",
        "outputId": "cb6728e8-846c-45fa-8348-8908dfdb78d1"
      },
      "outputs": [
        {
          "output_type": "stream",
          "name": "stdout",
          "text": [
            "0         لا يمكنك أن تتخلّى عن سلامة أختك من أجل الحب فقط.\n",
            "1         أنا على ثقة بأنك لن تتخلى عن إدانتك من أجل الربح.\n",
            "2           حسنًا، الرجل النبيل يجب ألا يهجر زوجته المخلصة.\n",
            "3         والمزارعون الذين لا يستطيعون البقاء في البيئة ...\n",
            "4         إنه لن يتخلى أبداً عروسته الجديدة أو ابنه الصغ...\n",
            "                                ...                        \n",
            "133609           زلج الم أغرق هاربورن في last قارب كل till \n",
            "133610               نظيف far towards يجري في هر الصيف الن \n",
            "133611           الد الرياح كانت to till هادئة تماماً ائرة \n",
            "133612    for ، till ن شيء المطر بدو الغابة سوف يقتل كل ...\n",
            "133613    reasons name) هذه أن تكون ب ويج عندما الرعاية ...\n",
            "Name: Sentence, Length: 133614, dtype: object\n",
            "<class 'pandas.core.series.Series'>\n"
          ]
        }
      ],
      "source": [
        "import numpy as np\n",
        "import pandas as pd\n",
        "\n",
        "df = pd.DataFrame(data, columns = ['Sentence','Label'])\n",
        "\n",
        "print(df['Sentence'])\n",
        "print(type(df['Label']))"
      ]
    },
    {
      "cell_type": "code",
      "execution_count": null,
      "metadata": {
        "colab": {
          "base_uri": "https://localhost:8080/"
        },
        "id": "oXn98yD0OLBC",
        "outputId": "273a1ec3-af53-4034-9cb8-4b462fd11147"
      },
      "outputs": [
        {
          "output_type": "stream",
          "name": "stdout",
          "text": [
            "['لا يمكنك أن تتخلّى عن سلامة أختك من أجل الحب فقط.'\n",
            " 'أنا على ثقة بأنك لن تتخلى عن إدانتك من أجل الربح.'\n",
            " 'حسنًا، الرجل النبيل يجب ألا يهجر زوجته المخلصة.' ...\n",
            " 'الد الرياح كانت to till هادئة تماماً ائرة '\n",
            " 'for ، till ن شيء المطر بدو الغابة سوف يقتل كل النار '\n",
            " 'reasons name) هذه أن تكون ب ويج عندما الرعاية يتم الم إجراء ']\n"
          ]
        }
      ],
      "source": [
        "X = df['Sentence'].to_numpy()\n",
        "Y = df['Label'].to_numpy()\n",
        "\n",
        "print(X)"
      ]
    },
    {
      "cell_type": "code",
      "execution_count": null,
      "metadata": {
        "colab": {
          "base_uri": "https://localhost:8080/"
        },
        "id": "5KbYmuVOPkjR",
        "outputId": "4f880b01-e887-44e6-fa22-f2abdc021a3a"
      },
      "outputs": [
        {
          "output_type": "stream",
          "name": "stdout",
          "text": [
            "['1' '1' '1' ... '0' '0' '0']\n"
          ]
        }
      ],
      "source": [
        "print(Y)"
      ]
    },
    {
      "cell_type": "code",
      "execution_count": null,
      "metadata": {
        "colab": {
          "base_uri": "https://localhost:8080/"
        },
        "id": "4KiCBiyvFXUV",
        "outputId": "3010bb80-258e-48fb-f2ed-346bc4b300b4"
      },
      "outputs": [
        {
          "output_type": "stream",
          "name": "stdout",
          "text": [
            "[1 1 1 ... 0 0 0]\n"
          ]
        }
      ],
      "source": [
        "Y = Y.astype(int)\n",
        "print(Y)"
      ]
    },
    {
      "cell_type": "code",
      "execution_count": null,
      "metadata": {
        "id": "-izeeZpbPn8O"
      },
      "outputs": [],
      "source": [
        "from sklearn.model_selection import train_test_split\n",
        "x_train, x_test, y_train, y_test = train_test_split(X, Y, test_size=0.33, random_state=42)"
      ]
    },
    {
      "cell_type": "code",
      "execution_count": null,
      "metadata": {
        "id": "oOXm7WyIE-pX"
      },
      "outputs": [],
      "source": [
        "from sklearn.preprocessing import LabelEncoder\n",
        "\n",
        "# Create an instance of LabelEncoder\n",
        "label_encoder = LabelEncoder()\n",
        "\n",
        "# Encode the labels\n",
        "y_train_encoded = label_encoder.fit_transform(y_train)\n",
        "y_test_encoded = label_encoder.transform(y_test)\n"
      ]
    },
    {
      "cell_type": "code",
      "execution_count": null,
      "metadata": {
        "colab": {
          "base_uri": "https://localhost:8080/"
        },
        "id": "AdoujQuKnLgu",
        "outputId": "a4ae934e-2075-4784-94df-73fe6d039a6d"
      },
      "outputs": [
        {
          "output_type": "stream",
          "name": "stdout",
          "text": [
            "[1 1 0 ... 0 0 0]\n"
          ]
        }
      ],
      "source": [
        "print(y_train_encoded)"
      ]
    },
    {
      "cell_type": "code",
      "execution_count": null,
      "metadata": {
        "colab": {
          "base_uri": "https://localhost:8080/"
        },
        "id": "uH_MLoo9sSk3",
        "outputId": "6019c6f7-1d36-44b0-bb6b-e2e218f1da18"
      },
      "outputs": [
        {
          "output_type": "stream",
          "name": "stdout",
          "text": [
            "Looking in indexes: https://pypi.org/simple, https://us-python.pkg.dev/colab-wheels/public/simple/\n",
            "Collecting farasapy\n",
            "  Downloading farasapy-0.0.14-py3-none-any.whl (11 kB)\n",
            "Requirement already satisfied: requests in /usr/local/lib/python3.10/dist-packages (from farasapy) (2.27.1)\n",
            "Requirement already satisfied: tqdm in /usr/local/lib/python3.10/dist-packages (from farasapy) (4.65.0)\n",
            "Requirement already satisfied: urllib3<1.27,>=1.21.1 in /usr/local/lib/python3.10/dist-packages (from requests->farasapy) (1.26.15)\n",
            "Requirement already satisfied: certifi>=2017.4.17 in /usr/local/lib/python3.10/dist-packages (from requests->farasapy) (2022.12.7)\n",
            "Requirement already satisfied: charset-normalizer~=2.0.0 in /usr/local/lib/python3.10/dist-packages (from requests->farasapy) (2.0.12)\n",
            "Requirement already satisfied: idna<4,>=2.5 in /usr/local/lib/python3.10/dist-packages (from requests->farasapy) (3.4)\n",
            "Installing collected packages: farasapy\n",
            "Successfully installed farasapy-0.0.14\n"
          ]
        }
      ],
      "source": [
        "!pip install farasapy"
      ]
    },
    {
      "cell_type": "code",
      "execution_count": null,
      "metadata": {
        "colab": {
          "base_uri": "https://localhost:8080/"
        },
        "id": "mmHKea1UtJ9i",
        "outputId": "bca10c54-989f-4aee-b357-6a13d5531ffd"
      },
      "outputs": [
        {
          "output_type": "stream",
          "name": "stdout",
          "text": [
            "Looking in indexes: https://pypi.org/simple, https://us-python.pkg.dev/colab-wheels/public/simple/\n",
            "Collecting arabert\n",
            "  Downloading arabert-1.0.1-py3-none-any.whl (179 kB)\n",
            "\u001b[2K     \u001b[90m━━━━━━━━━━━━━━━━━━━━━━━━━━━━━━━━━━━━━━━\u001b[0m \u001b[32m179.3/179.3 kB\u001b[0m \u001b[31m5.5 MB/s\u001b[0m eta \u001b[36m0:00:00\u001b[0m\n",
            "\u001b[?25hCollecting PyArabic (from arabert)\n",
            "  Downloading PyArabic-0.6.15-py3-none-any.whl (126 kB)\n",
            "\u001b[2K     \u001b[90m━━━━━━━━━━━━━━━━━━━━━━━━━━━━━━━━━━━━━━\u001b[0m \u001b[32m126.4/126.4 kB\u001b[0m \u001b[31m18.3 MB/s\u001b[0m eta \u001b[36m0:00:00\u001b[0m\n",
            "\u001b[?25hRequirement already satisfied: farasapy in /usr/local/lib/python3.10/dist-packages (from arabert) (0.0.14)\n",
            "Collecting emoji==1.4.2 (from arabert)\n",
            "  Downloading emoji-1.4.2.tar.gz (184 kB)\n",
            "\u001b[2K     \u001b[90m━━━━━━━━━━━━━━━━━━━━━━━━━━━━━━━━━━━━━━\u001b[0m \u001b[32m185.0/185.0 kB\u001b[0m \u001b[31m25.0 MB/s\u001b[0m eta \u001b[36m0:00:00\u001b[0m\n",
            "\u001b[?25h  Preparing metadata (setup.py) ... \u001b[?25l\u001b[?25hdone\n",
            "Requirement already satisfied: requests in /usr/local/lib/python3.10/dist-packages (from farasapy->arabert) (2.27.1)\n",
            "Requirement already satisfied: tqdm in /usr/local/lib/python3.10/dist-packages (from farasapy->arabert) (4.65.0)\n",
            "Requirement already satisfied: six>=1.14.0 in /usr/local/lib/python3.10/dist-packages (from PyArabic->arabert) (1.16.0)\n",
            "Requirement already satisfied: urllib3<1.27,>=1.21.1 in /usr/local/lib/python3.10/dist-packages (from requests->farasapy->arabert) (1.26.15)\n",
            "Requirement already satisfied: certifi>=2017.4.17 in /usr/local/lib/python3.10/dist-packages (from requests->farasapy->arabert) (2022.12.7)\n",
            "Requirement already satisfied: charset-normalizer~=2.0.0 in /usr/local/lib/python3.10/dist-packages (from requests->farasapy->arabert) (2.0.12)\n",
            "Requirement already satisfied: idna<4,>=2.5 in /usr/local/lib/python3.10/dist-packages (from requests->farasapy->arabert) (3.4)\n",
            "Building wheels for collected packages: emoji\n",
            "  Building wheel for emoji (setup.py) ... \u001b[?25l\u001b[?25hdone\n",
            "  Created wheel for emoji: filename=emoji-1.4.2-py3-none-any.whl size=186458 sha256=6d4d62047d0a5f40008f6bd1f7e4e27defe738120d9534f241af0b3c9bf7edcf\n",
            "  Stored in directory: /root/.cache/pip/wheels/10/f0/fd/4813b1177405693e8da9cdea839f0fb64fde161380e058c827\n",
            "Successfully built emoji\n",
            "Installing collected packages: emoji, PyArabic, arabert\n",
            "Successfully installed PyArabic-0.6.15 arabert-1.0.1 emoji-1.4.2\n"
          ]
        }
      ],
      "source": [
        "!pip install arabert"
      ]
    },
    {
      "cell_type": "code",
      "execution_count": null,
      "metadata": {
        "colab": {
          "base_uri": "https://localhost:8080/",
          "height": 125
        },
        "id": "iZxSOQ33sdTr",
        "outputId": "2d089042-f618-40e5-d662-74f3ff1bf65d"
      },
      "outputs": [
        {
          "output_type": "stream",
          "name": "stderr",
          "text": [
            "/usr/local/lib/python3.10/dist-packages/urllib3/connectionpool.py:1045: InsecureRequestWarning: Unverified HTTPS request is being made to host 'farasa-api.qcri.org'. Adding certificate verification is strongly advised. See: https://urllib3.readthedocs.io/en/1.26.x/advanced-usage.html#ssl-warnings\n",
            "  warnings.warn(\n"
          ]
        },
        {
          "output_type": "stream",
          "name": "stdout",
          "text": [
            "100%|██████████| 241M/241M [00:31<00:00, 7.55MiB/s]\n"
          ]
        },
        {
          "output_type": "stream",
          "name": "stderr",
          "text": [
            "[2023-06-06 12:53:13,800 - farasapy_logger - WARNING]: Be careful with large lines as they may break on interactive mode. You may switch to Standalone mode for such cases.\n"
          ]
        },
        {
          "output_type": "execute_result",
          "data": {
            "text/plain": [
              "'this is a sentence'"
            ],
            "application/vnd.google.colaboratory.intrinsic+json": {
              "type": "string"
            }
          },
          "metadata": {},
          "execution_count": 5
        }
      ],
      "source": [
        "from arabert.preprocess import ArabertPreprocessor\n",
        "model_name=\"bert-base-arabertv2\"\n",
        "arabert_prep = ArabertPreprocessor(model_name=model_name)\n",
        "\n",
        "text = \"this is a sentence\"\n",
        "arabert_prep.preprocess(text)"
      ]
    },
    {
      "cell_type": "code",
      "execution_count": null,
      "metadata": {
        "colab": {
          "base_uri": "https://localhost:8080/",
          "height": 177,
          "referenced_widgets": [
            "03ac03c6a03c4ab9b1e2e188ed7cb898",
            "f9216d11abf1468da449d716f5041f77",
            "e2de93c03b96491abf59966835f1003c",
            "0b50d9b1091f4d7c9fdeca11eeaa8c72",
            "4e5ead807e4c43f3bd53d0e9fb3cf6c3",
            "463b49cbefe14f10b659ea55af6a1654",
            "d38e43d1da284d23bf2af245c09e9a04",
            "143d48a359cd4c9bb2ca40b2606c480d",
            "8b6e64c3a4a647f5a8bdf4390ea8c70d",
            "58e749db97ad4d7298e61e9ab6625b3f",
            "cd04d10c53404c72883a5a1e74dd94ad",
            "0a4b42a679ae410c8f7e3f965133a040",
            "c3fcec90cd514e6082300b03f52c6de5",
            "b279d924fd424b8bb5dfae4078b544f6",
            "94027cfe406245769ee9cd5fb3106439",
            "601df0b73729402e978032cf9e19c14e",
            "3a437a4be7ef4cbaba319d872bea4fa5",
            "09e3ea98e5664588adcb87f2ce4e1e37",
            "a41a9b8a4af9411fa123217e8e20b4de",
            "15f906f5d7dc4e11809e623b3d4b25b6",
            "b043ac1bb60146a18e677cc1d67787b1",
            "53cc3e6b24694cc1bf5bc5c3d4757be2",
            "117c9f75ddc2455dbfb722ebf14f02f9",
            "5951b7be838143b39968c58d3366b32b",
            "798bb0368a434dc9ab38b0a2c4ceff99",
            "3be1248a3fd44211a9a9ac1224ac9e0a",
            "d6602450459547d1b0a367fd2a051363",
            "5fbf4dcd201146729351d3b5dfb96705",
            "0ec382a91e184c689fa6d6476e892af7",
            "17067f884d1e454aa563057051186b5b",
            "9cba748ac0184f3298bb93f3fd3f9533",
            "0829beaee44f4508979ade6f65794f7f",
            "55094ec4c092475bb417090733ca9218",
            "243391e0754b4e97b135b19ab682d2b0",
            "86699cf16ad84739b22bc0f2e5566788",
            "ba031414ac694a018df97522bc0868d2",
            "a0a6678cfc124d1196d238b83bbc184a",
            "de388b0209d74371b9b6e1282f96df34",
            "c5834f0b8f7d424f8be19c7b9d2363b6",
            "484bc040ccb446c59c8f38baf6c65e4f",
            "3d1e00d685da4daab4be5182c156ca90",
            "10c99ba66229499a993415c471ff66e5",
            "0e8b3569db464088abf924458fb998f1",
            "6ea1bc684cf14634a36942eefb38e2b7",
            "79f9ba3d7514454d88b8b5f2d8f1c9d9",
            "a25919b2fafc414bb0f00f8df458469c",
            "bc97609ec56846829011af473753daf3",
            "cf8e80f193424d7ab6b1a6571e276f8c",
            "98ef0591f6ad4740a818ec21e5c0058e",
            "9a9232f8096f44d6bc478d3aa8e2064e",
            "e61178b51c4445958e822ccbf01943e3",
            "058d8c0805be446b8a8e2a6dca5206e0",
            "04f328fde4944f1d93025c60aa39bbce",
            "5cdcd81ab86f4fceb754ef654bbb7704",
            "016ed6999e814ff5a179089e2a8526a2"
          ]
        },
        "id": "0LR3s9jVQSTt",
        "outputId": "66b7c843-52a5-4431-9395-29e3848dc1a2"
      },
      "outputs": [
        {
          "output_type": "display_data",
          "data": {
            "text/plain": [
              "Downloading (…)okenizer_config.json:   0%|          | 0.00/611 [00:00<?, ?B/s]"
            ],
            "application/vnd.jupyter.widget-view+json": {
              "version_major": 2,
              "version_minor": 0,
              "model_id": "03ac03c6a03c4ab9b1e2e188ed7cb898"
            }
          },
          "metadata": {}
        },
        {
          "output_type": "display_data",
          "data": {
            "text/plain": [
              "Downloading (…)lve/main/config.json:   0%|          | 0.00/384 [00:00<?, ?B/s]"
            ],
            "application/vnd.jupyter.widget-view+json": {
              "version_major": 2,
              "version_minor": 0,
              "model_id": "0a4b42a679ae410c8f7e3f965133a040"
            }
          },
          "metadata": {}
        },
        {
          "output_type": "display_data",
          "data": {
            "text/plain": [
              "Downloading (…)solve/main/vocab.txt:   0%|          | 0.00/720k [00:00<?, ?B/s]"
            ],
            "application/vnd.jupyter.widget-view+json": {
              "version_major": 2,
              "version_minor": 0,
              "model_id": "117c9f75ddc2455dbfb722ebf14f02f9"
            }
          },
          "metadata": {}
        },
        {
          "output_type": "display_data",
          "data": {
            "text/plain": [
              "Downloading (…)/main/tokenizer.json:   0%|          | 0.00/2.31M [00:00<?, ?B/s]"
            ],
            "application/vnd.jupyter.widget-view+json": {
              "version_major": 2,
              "version_minor": 0,
              "model_id": "243391e0754b4e97b135b19ab682d2b0"
            }
          },
          "metadata": {}
        },
        {
          "output_type": "display_data",
          "data": {
            "text/plain": [
              "Downloading (…)cial_tokens_map.json:   0%|          | 0.00/112 [00:00<?, ?B/s]"
            ],
            "application/vnd.jupyter.widget-view+json": {
              "version_major": 2,
              "version_minor": 0,
              "model_id": "79f9ba3d7514454d88b8b5f2d8f1c9d9"
            }
          },
          "metadata": {}
        }
      ],
      "source": [
        "from transformers import AutoTokenizer\n",
        "\n",
        "tokenizer = AutoTokenizer.from_pretrained(\"aubmindlab/bert-base-arabertv2\")\n",
        "\n",
        "def tokenize_function(example , prep = arabert_prep):\n",
        "    text = prep.preprocess(example[\"text\"])\n",
        "    return tokenizer(text)\n",
        "\n",
        "def tokenize_function_raw(example , prep = arabert_prep):\n",
        "    text = prep.preprocess(example)\n",
        "    return tokenizer(text)"
      ]
    },
    {
      "cell_type": "code",
      "execution_count": null,
      "metadata": {
        "id": "w0cpwhsN5nhO"
      },
      "outputs": [],
      "source": [
        "import datasets"
      ]
    },
    {
      "cell_type": "code",
      "execution_count": null,
      "metadata": {
        "id": "f_sKXa3w5rx7"
      },
      "outputs": [],
      "source": [
        "train_dataset = datasets.Dataset.from_dict({\"label\": y_train, \"text\": x_train})\n",
        "test_dataset = datasets.Dataset.from_dict({\"label\": y_test, \"text\": x_test})"
      ]
    },
    {
      "cell_type": "code",
      "execution_count": null,
      "metadata": {
        "colab": {
          "base_uri": "https://localhost:8080/"
        },
        "id": "hnVqv9W452yC",
        "outputId": "f610727b-f13d-4a80-9d51-a239c54fa47a"
      },
      "outputs": [
        {
          "output_type": "stream",
          "name": "stdout",
          "text": [
            "{'label': 0, 'text': 'وقد the  أُدرجت ملاحظاته في نهاية هذه المادة. towards'}\n"
          ]
        }
      ],
      "source": [
        "print(test_dataset[5])"
      ]
    },
    {
      "cell_type": "code",
      "execution_count": null,
      "metadata": {
        "colab": {
          "base_uri": "https://localhost:8080/",
          "height": 54,
          "referenced_widgets": [
            "fde52b2420d94a5e96cd19e567e5c9d1",
            "615a7d11403041c7a9c72725290834c6",
            "5a3d3586889543eaaeb9b99fe7c25bbf",
            "0d4cd96d3a104c8f919b94b25e23fd79",
            "d1d27e13bdfe4f6aba6e06108e37e3a6",
            "3261d09f25dd4f9e907778c8b7a48c25",
            "e1e4d9715b9f47968a554e0bd3ebdb1b",
            "0f59dae207554b7a99b8c62ad9abb990",
            "268c1081a3e243aaa0b1cb61e3c56bb4",
            "76d9707e96d049a0a297313e94595d7b",
            "9d63e70b986f43f685a642b8913bcb5b",
            "1f9ef5d2c78b49f58932e1e9729a04f2",
            "14d5bf6ad44547ca99f210cc587f7be6",
            "5e88969cabcb40318a037d4d40a504c2",
            "6543bf6cdbf34db5a96cfe433107b010",
            "1fbe54e03c894c66984e150cfc88ad2b",
            "9098642575a048d1aaeecb2c70d3fd6a",
            "f1e96d5e65c346cea598fd1e059938ef",
            "f1320db9bbf841108c63ddd0284cc83b",
            "6794525229a044ce81b6eb08392d1b5a",
            "aeb809744915459593d9ea40bfb9655f",
            "f0b799f851da43babe32e8f67663fcdf"
          ]
        },
        "id": "nBQ1gO816CYS",
        "outputId": "9a246d68-c749-4944-b6f6-8091bfc8a205"
      },
      "outputs": [
        {
          "output_type": "stream",
          "name": "stderr",
          "text": [
            "WARNING:datasets.fingerprint:Parameter 'function'=<function tokenize_function at 0x7f3960726950> of the transform datasets.arrow_dataset.Dataset._map_single couldn't be hashed properly, a random hash was used instead. Make sure your transforms and parameters are serializable with pickle or dill for the dataset fingerprinting and caching to work. If you reuse this transform, the caching mechanism will consider it to be different from the previous calls and recompute everything. This warning is only showed once. Subsequent hashing failures won't be showed.\n"
          ]
        },
        {
          "output_type": "display_data",
          "data": {
            "text/plain": [
              "Map:   0%|          | 0/89521 [00:00<?, ? examples/s]"
            ],
            "application/vnd.jupyter.widget-view+json": {
              "version_major": 2,
              "version_minor": 0,
              "model_id": "fde52b2420d94a5e96cd19e567e5c9d1"
            }
          },
          "metadata": {}
        },
        {
          "output_type": "display_data",
          "data": {
            "text/plain": [
              "Map:   0%|          | 0/44093 [00:00<?, ? examples/s]"
            ],
            "application/vnd.jupyter.widget-view+json": {
              "version_major": 2,
              "version_minor": 0,
              "model_id": "1f9ef5d2c78b49f58932e1e9729a04f2"
            }
          },
          "metadata": {}
        }
      ],
      "source": [
        "tokenized_train_datasets = train_dataset.map(tokenize_function)\n",
        "tokenized_test_datasets = test_dataset.map(tokenize_function)"
      ]
    },
    {
      "cell_type": "code",
      "execution_count": null,
      "metadata": {
        "colab": {
          "base_uri": "https://localhost:8080/"
        },
        "id": "Z9ifeJauBS2b",
        "outputId": "a605e82e-4662-41dd-bfe5-88b98ce75038"
      },
      "outputs": [
        {
          "output_type": "stream",
          "name": "stdout",
          "text": [
            "{'label': 1, 'text': 'ومع ذلك، لا ينصح دائمًا باستخدام شهادة موقعة ذاتيًا.', 'input_ids': [33, 29, 315, 424, 130, 363, 9075, 1541, 0, 2, 1264, 2232, 12, 1099, 12, 3702, 0, 48, 34], 'token_type_ids': [0, 0, 0, 0, 0, 0, 0, 0, 0, 0, 0, 0, 0, 0, 0, 0, 0, 0, 0], 'attention_mask': [1, 1, 1, 1, 1, 1, 1, 1, 1, 1, 1, 1, 1, 1, 1, 1, 1, 1, 1]}\n"
          ]
        }
      ],
      "source": [
        "print(tokenized_train_datasets[5])"
      ]
    },
    {
      "cell_type": "code",
      "execution_count": null,
      "metadata": {
        "id": "HrKaRjYv8c9b"
      },
      "outputs": [],
      "source": [
        "small_train_dataset = tokenized_train_datasets.shuffle(seed=42).select(range(80000))\n",
        "small_eval_dataset = tokenized_test_datasets.shuffle(seed=42).select(range(20000))"
      ]
    },
    {
      "cell_type": "code",
      "execution_count": null,
      "metadata": {
        "colab": {
          "base_uri": "https://localhost:8080/"
        },
        "id": "xWD-w_Zn-NiP",
        "outputId": "7522a8db-6cb0-4839-a402-07291efd6b0a"
      },
      "outputs": [
        {
          "output_type": "stream",
          "name": "stderr",
          "text": [
            "All model checkpoint layers were used when initializing TFBertForSequenceClassification.\n",
            "\n",
            "All the layers of TFBertForSequenceClassification were initialized from the model checkpoint at /content/drive/MyDrive/ArabertModel/weights2.\n",
            "If your task is similar to the task the model of the checkpoint was trained on, you can already use TFBertForSequenceClassification for predictions without further training.\n"
          ]
        }
      ],
      "source": [
        "from transformers import TFAutoModelForSequenceClassification\n",
        "from tensorflow.keras.optimizers import Adam\n",
        "\n",
        "# Load and compile our model\n",
        "model = TFAutoModelForSequenceClassification.from_pretrained(\"/content/drive/MyDrive/ArabertModel/weights2\")"
      ]
    },
    {
      "cell_type": "code",
      "execution_count": null,
      "metadata": {
        "colab": {
          "base_uri": "https://localhost:8080/"
        },
        "id": "-JPJUTAxA877",
        "outputId": "8bded8be-284f-4a64-8e34-58173919aff0"
      },
      "outputs": [
        {
          "output_type": "stream",
          "name": "stderr",
          "text": [
            "You're using a BertTokenizerFast tokenizer. Please note that with a fast tokenizer, using the `__call__` method is faster than using a method to encode the text followed by a call to the `pad` method to get a padded encoding.\n"
          ]
        }
      ],
      "source": [
        "tf_dataset = model.prepare_tf_dataset(small_train_dataset, batch_size=16, shuffle=True, tokenizer=tokenizer)"
      ]
    },
    {
      "cell_type": "code",
      "source": [
        "from tensorflow.keras.callbacks import ProgbarLogger\n",
        "\n",
        "progress_bar = ProgbarLogger()\n",
        "\n",
        "model.compile(optimizer=Adam(3e-5),\n",
        "              metrics=['accuracy'])"
      ],
      "metadata": {
        "colab": {
          "base_uri": "https://localhost:8080/"
        },
        "id": "eALmD69HnpYn",
        "outputId": "8812b39f-e45c-4cee-98df-e4ad6dca0b8c"
      },
      "execution_count": null,
      "outputs": [
        {
          "output_type": "stream",
          "name": "stderr",
          "text": [
            "No loss specified in compile() - the model's internal loss computation will be used as the loss. Don't panic - this is a common way to train TensorFlow models in Transformers! To disable this behaviour please pass a loss argument, or explicitly pass `loss=None` if you do not want your model to compute a loss.\n"
          ]
        }
      ]
    },
    {
      "cell_type": "code",
      "execution_count": null,
      "metadata": {
        "colab": {
          "base_uri": "https://localhost:8080/"
        },
        "id": "BuSdcV4pBtHD",
        "outputId": "7529f2a3-98da-4774-e09a-cc03d9964a1c"
      },
      "outputs": [
        {
          "output_type": "stream",
          "name": "stdout",
          "text": [
            "{epoch : 1/5}\n",
            "5000/5000 [==============================] - 986s 197ms/sample - loss: 0.5883 - accuracy: 0.6840\n",
            "{epoch : 2/5}\n",
            "5000/5000 [==============================] - 988s 198ms/sample - loss: 0.2809 - accuracy: 0.8989\n",
            "{epoch : 3/5}\n",
            "5000/5000 [==============================] - 982s 196ms/sample - loss: 0.1200 - accuracy: 0.9653\n",
            "{epoch : 4/5}\n",
            "5000/5000 [==============================] - 983s 197ms/sample - loss: 0.0597 - accuracy: 0.9885\n",
            "{epoch : 5/5}\n",
            "5000/5000 [==============================] - 984s 197ms/sample - loss: 0.0693 - accuracy: 0.9857\n"
          ]
        }
      ],
      "source": [
        "\n",
        "epochs = 5\n",
        "for i in range(epochs):\n",
        "  print(\"{epoch : \"+ str(i+1) + \"/\" + str(epochs) + \"}\")\n",
        "  model.fit(tf_dataset, callbacks=[progress_bar])\n",
        "  tf_dataset_test = model.prepare_tf_dataset(small_eval_dataset, batch_size=16, shuffle=True, tokenizer=tokenizer)\n",
        "  model.evaluate(tf_dataset_test,callbacks=[progress_bar])\n",
        "\n",
        "  model.save_pretrained(\"/content/drive/MyDrive/ArabertModel/weights2\")"
      ]
    },
    {
      "cell_type": "code",
      "execution_count": null,
      "metadata": {
        "colab": {
          "base_uri": "https://localhost:8080/"
        },
        "id": "7VHIMLo5GdlE",
        "outputId": "4bdce81b-4fc9-4e58-bc16-5dfd80689d3b"
      },
      "outputs": [
        {
          "output_type": "execute_result",
          "data": {
            "text/plain": [
              "[0.09462150931358337, 0.9786999821662903]"
            ]
          },
          "metadata": {},
          "execution_count": 42
        }
      ],
      "source": [
        "tf_dataset_test = model.prepare_tf_dataset(small_eval_dataset, batch_size=16, shuffle=True, tokenizer=tokenizer)\n",
        "model.evaluate(tf_dataset_test,callbacks=[progress_bar])"
      ]
    },
    {
      "cell_type": "code",
      "execution_count": null,
      "metadata": {
        "colab": {
          "base_uri": "https://localhost:8080/"
        },
        "id": "iAnCnfWdQMjK",
        "outputId": "5455275e-89a6-4317-a71c-7b0e7396d6b4"
      },
      "outputs": [
        {
          "output_type": "execute_result",
          "data": {
            "text/plain": [
              "[0.0946214571595192, 0.9786999821662903]"
            ]
          },
          "metadata": {},
          "execution_count": 43
        }
      ],
      "source": [
        "tf_dataset_test = model.prepare_tf_dataset(small_eval_dataset, batch_size=32, shuffle=True, tokenizer=tokenizer)\n",
        "model.evaluate(tf_dataset_test,callbacks=[progress_bar])"
      ]
    },
    {
      "cell_type": "code",
      "execution_count": null,
      "metadata": {
        "colab": {
          "base_uri": "https://localhost:8080/"
        },
        "id": "Js3jCGfpSds9",
        "outputId": "00ce6c23-d920-4140-b395-450a5d17354a"
      },
      "outputs": [
        {
          "output_type": "stream",
          "name": "stdout",
          "text": [
            "{'label': [0, 0, 0, 1, 0, 1, 0, 0, 1, 1, 0, 1, 0, 0, 1, 1, 0, 0, 0, 0, 0, 1, 1, 0, 0, 1, 0, 1, 1, 1, 1, 0, 1, 0, 0, 1, 1, 0, 0, 0], 'text': ['وجهها خياطة خاوف جعلت الم far far ', 'هل  with انتهى من العلاج ؟ last', 'إنجليزية  till لـ وصفة Down) down) a هو جون ( ( مرض ', 'لكن نقّادا إنجليز آخرين نظروا إلى اللوحة باعتبارها تحذيرا من الابسنث ومن الفرنسيين بشكل عام.', 'هذا with  الحصان غير المعتاد يبدو سهلاً بسهولة a', 'يقول جاك ما أنه اختار اسم علي بابا لعدة أسباب.', 'ثال with ثاً - الصورة المئوية التي لا يمكن أن ت reasons', 'وكا for ن الأمين الأول لطاقم الطاقة هو جيمس ر. شل far', 'نوما وأنا نجا من بيت فوق مرتفع.', 'ويشكل الحوار مع الميليشيات تطورا إيجابيا من المفروض أن يؤدي إلى تراجع حالة الفوضى في مناطق كيفو.', 'الصغيرة for because قذف (موفتون) ة سيد تأكل كانت على ', 'فمثلا، ينتج مليوني كيلوغرام من سلفونات ألكيل البنزين سنويًا لأغراض متعددة.', 'ثال to ثاً - حيازة الملكية المشتركة a', 'وهو reasons  يعتمد على الغثيان لكي يحذره من تغييرات الض name)', 'تقديم جميع الوثائق، والحصول على إقامة جديدة مثبتة على جواز السفر، مما يعكس تاريخ التمديد.', 'القيام بنقل وتسليم مرتبات العاملين بالشركات بجميع المحافظات المختلفة.', 'ووص far لت الطائرة إلى دمشق. with', 'وحسب، من far الكتب، الكثير المسار فقدت لدي ها لقد for ', 'من the قذي فة reasons الفحم ', 'الش to مس تنشر أغراضها reasons', 'العلمية يم العلمي till على معرفتنا علمنا because تنظ ', 'فليس من قبيل الصدفة أن معظم من يعانون الفقر المدقع في العالم هم من النساء.', 'لماذا، لا بد أنك بيغلت.', 'لقد towards  لعبت بشدة مع خاتم زواجها a', 'لقد توقيع towards word مزح التوقيع  ', 'يبلغ التلوث الجوي في طهران أعلى مستوياته بسبب الانقلاب الحراري.', 'إنه word ا تعرف كيفية تنسيق ملابسها far', 'هنا مقال عن أم المتداول الذي توفي لأن وسيط الفوركس احتيال ابنها، الذي لا يمكن سحب المال لدفع ثمن الدواء لها.', 'يتسم العضال الغدي بالهدوء في بعض الأحيان-حيث لا يتسبب في ظهور علامات أو أعراض-أو يكون مزعجًا بشكل طفيف فقط.', 'أولا وقبل كل شيء، يتم تغيير مستويات الهرمون بشكل كبير.', 'وفي هذا الخصوص فإن أكثر الأجهزة المستخدمة حتى تاريخه شيوعًا هو البوصلة التناظرية.', 'لقد the  وضعت نفسها على العشاء reasons', 'ويركز تدريب الترخيص على فهم أفضل لأنظمة الطائرات ومعيار أعلى من المهارات الجوية.', 'يَج name) ِبُ أَنْ يَكُونَ a', 'ثال with ثاً - طلب بضائع وإغلاق هذه الدفعة because', 'وشملت هذه نائب الرئيس أدلاي ستيفنسون من إلينوي، عضو مجلس الشيوخ جوزيف بلاك بيرن من كنتاكي، محافظ إنديانا كلود ماثيوز، وبراين.', 'وأكد أن تلك الزيارات أظهرت مدى قرب القيادة السياسية من المرابطين والمدافعين عن حمى الوطن وحرصها على تلبية احتياجاتهم والتي كان لها الأثر الإيجابي رفع الروح معنويات أبطال الجيش واللجان الشعبية.', 'أخب a ار مرض طفلها يؤثر على أمها towards', 'الج the دار الجنوبى كان لديه نافذة صغيرة for', 'دعو because نا نَقُولُ نعم جميعاً كُلّ towards'], 'input_ids': [[33, 1112, 10, 9383, 12, 48642, 246, 1968, 16, 7214, 102, 4673, 102, 4673, 34], [33, 1081, 24308, 4478, 290, 20, 1620, 132, 24249, 7869, 34], [33, 3768, 12, 116, 16175, 162, 29, 852, 12, 55876, 43, 42484, 53632, 43, 97, 419, 2806, 42, 42, 1570, 34], [33, 523, 7259, 0, 15457, 641, 28, 1008, 24, 336, 20, 2701, 12, 2, 1546, 10, 5226, 0, 290, 20, 2867, 1444, 258, 29, 290, 20, 1316, 28, 2, 725, 359, 48, 34], [33, 387, 24308, 20, 5898, 539, 20, 6757, 2326, 3516, 0, 2, 4220, 12, 97, 34], [33, 1260, 5185, 331, 302, 25, 4271, 1392, 421, 3862, 6, 650, 12, 1801, 48, 34], [33, 1087, 24308, 39089, 47, 20, 947, 12, 20, 7250, 12, 335, 363, 790, 302, 142, 17445, 53110, 191, 34], [33, 43059, 9758, 164, 20, 1303, 20, 491, 6, 5204, 20, 1370, 12, 419, 7459, 149, 48, 6734, 102, 4673, 34], [33, 4154, 0, 29, 1412, 6122, 290, 1555, 2246, 3614, 48, 34], [33, 29, 2779, 20, 1390, 315, 20, 6000, 4, 1613, 0, 2137, 0, 290, 20, 5546, 302, 2783, 336, 1843, 637, 12, 20, 4445, 289, 1194, 38870, 48, 34], [33, 20, 1693, 12, 9758, 43317, 9659, 42, 13406, 210, 26, 43, 12, 1096, 13446, 369, 16, 306, 34], [33, 13, 713, 0, 130, 6175, 898, 5, 11170, 290, 5210, 31408, 7751, 362, 20, 6295, 2056, 0, 6, 5874, 2914, 12, 48, 34], [33, 1087, 13523, 39089, 47, 7620, 12, 20, 1771, 12, 20, 1509, 12, 97, 34], [33, 29, 419, 17445, 53110, 191, 4010, 306, 20, 18453, 6, 1001, 8701, 25, 290, 1547, 4, 288, 269, 110, 28261, 43, 34], [33, 1147, 630, 20, 4247, 130, 29, 20, 1424, 306, 1567, 12, 567, 12, 10955, 12, 306, 4681, 20, 2192, 130, 988, 5517, 899, 20, 4750, 48, 34], [33, 20, 1420, 2, 906, 29, 2803, 2153, 4, 20, 1230, 28, 2, 20, 521, 4, 2, 630, 20, 760, 4, 20, 916, 12, 48, 34], [33, 29, 5659, 102, 4673, 13095, 20, 1518, 12, 336, 2314, 48, 24308, 34], [33, 29, 1068, 130, 290, 102, 4673, 20, 1528, 130, 20, 730, 20, 2705, 1093, 16, 1205, 298, 1674, 9758, 34], [33, 290, 8363, 2971, 209, 159, 251, 17445, 53110, 191, 20, 10499, 34], [33, 16181, 13523, 344, 6847, 5874, 10, 17445, 53110, 191, 34], [33, 20, 1595, 12, 548, 20, 1595, 116, 16175, 306, 29247, 957, 8, 43317, 1048, 34], [33, 13, 682, 290, 3806, 20, 8193, 12, 302, 1935, 290, 5536, 26, 20, 2719, 20, 21395, 289, 20, 687, 332, 290, 20, 1911, 48, 34], [33, 2320, 130, 363, 538, 302, 1, 2, 35084, 210, 48, 34], [33, 1674, 13523, 27125, 191, 1502, 16, 2, 3291, 12, 315, 9020, 2734, 10, 97, 34], [33, 1674, 2466, 13523, 27125, 191, 119, 20531, 21437, 20, 2466, 34], [33, 2640, 20, 5386, 20, 2048, 289, 3692, 1623, 2482, 4, 25, 2, 804, 20, 4376, 20, 7149, 48, 34], [33, 348, 25, 119, 20531, 139, 2275, 2798, 12, 2356, 3396, 10, 102, 4673, 34], [33, 1600, 2405, 322, 319, 20, 6653, 377, 4197, 6, 302, 7623, 20, 57953, 10309, 1487, 10, 130, 377, 363, 790, 3061, 20, 1281, 6, 1382, 3308, 20, 5347, 6, 10, 48, 34], [33, 11157, 20, 23545, 20, 31234, 2, 20, 4467, 289, 545, 20, 2580, 47, 527, 363, 7291, 289, 3013, 3117, 4, 347, 5384, 47, 347, 658, 11083, 0, 2, 725, 7232, 1116, 48, 34], [33, 491, 0, 29, 554, 402, 1557, 130, 697, 1547, 2482, 4, 20, 5051, 26, 2, 725, 594, 48, 34], [33, 29, 289, 387, 20, 1237, 13, 348, 611, 20, 1630, 12, 20, 2817, 12, 583, 899, 25, 10159, 0, 419, 20, 13378, 12, 20, 51980, 12, 48, 34], [33, 1674, 8363, 782, 16, 686, 10, 306, 20, 6464, 17445, 53110, 191, 34], [33, 29, 7230, 1423, 20, 5111, 306, 2628, 1243, 6, 2634, 12, 20, 1518, 4, 29, 8059, 1623, 290, 20, 3420, 4, 20, 2048, 12, 48, 34], [33, 643, 110, 28261, 43, 140, 302, 658, 97, 34], [33, 1087, 24308, 39089, 47, 891, 5782, 29, 3340, 405, 20, 1382, 12, 43317, 34], [33, 29, 3357, 16, 405, 895, 20, 401, 4508, 370, 38925, 290, 29114, 130, 1381, 513, 20, 4752, 8428, 8638, 16950, 290, 25210, 130, 760, 16857, 12435, 54402, 130, 29, 2, 12900, 48, 34], [33, 29, 670, 302, 847, 20, 1199, 4, 3217, 16, 1676, 2163, 20, 1080, 12, 20, 685, 12, 290, 20, 13714, 28, 29, 20, 3448, 28, 322, 8567, 20, 1349, 29, 2269, 10, 306, 3952, 12, 2570, 4, 3, 29, 335, 369, 6, 10, 20, 2886, 20, 2137, 1299, 20, 2108, 4226, 4, 3457, 20, 1102, 29, 20, 2493, 20, 1593, 12, 48, 34], [33, 561, 221, 97, 678, 1570, 1739, 10, 4687, 306, 319, 10, 13523, 27125, 191, 34], [33, 27099, 8363, 1881, 20, 17242, 369, 1205, 25, 5911, 12, 1693, 12, 9758, 34], [33, 1617, 43317, 358, 4667, 3047, 630, 0, 402, 13523, 27125, 191, 34]], 'token_type_ids': [[0, 0, 0, 0, 0, 0, 0, 0, 0, 0, 0, 0, 0, 0, 0], [0, 0, 0, 0, 0, 0, 0, 0, 0, 0, 0], [0, 0, 0, 0, 0, 0, 0, 0, 0, 0, 0, 0, 0, 0, 0, 0, 0, 0, 0, 0, 0], [0, 0, 0, 0, 0, 0, 0, 0, 0, 0, 0, 0, 0, 0, 0, 0, 0, 0, 0, 0, 0, 0, 0, 0, 0, 0, 0, 0, 0, 0, 0, 0, 0], [0, 0, 0, 0, 0, 0, 0, 0, 0, 0, 0, 0, 0, 0, 0, 0], [0, 0, 0, 0, 0, 0, 0, 0, 0, 0, 0, 0, 0, 0, 0, 0], [0, 0, 0, 0, 0, 0, 0, 0, 0, 0, 0, 0, 0, 0, 0, 0, 0, 0, 0, 0], [0, 0, 0, 0, 0, 0, 0, 0, 0, 0, 0, 0, 0, 0, 0, 0, 0, 0, 0, 0, 0], [0, 0, 0, 0, 0, 0, 0, 0, 0, 0, 0, 0], [0, 0, 0, 0, 0, 0, 0, 0, 0, 0, 0, 0, 0, 0, 0, 0, 0, 0, 0, 0, 0, 0, 0, 0, 0, 0, 0, 0, 0], [0, 0, 0, 0, 0, 0, 0, 0, 0, 0, 0, 0, 0, 0, 0, 0, 0, 0, 0], [0, 0, 0, 0, 0, 0, 0, 0, 0, 0, 0, 0, 0, 0, 0, 0, 0, 0, 0, 0, 0, 0, 0, 0], [0, 0, 0, 0, 0, 0, 0, 0, 0, 0, 0, 0, 0, 0, 0], [0, 0, 0, 0, 0, 0, 0, 0, 0, 0, 0, 0, 0, 0, 0, 0, 0, 0, 0, 0, 0, 0, 0], [0, 0, 0, 0, 0, 0, 0, 0, 0, 0, 0, 0, 0, 0, 0, 0, 0, 0, 0, 0, 0, 0, 0, 0, 0, 0, 0, 0], [0, 0, 0, 0, 0, 0, 0, 0, 0, 0, 0, 0, 0, 0, 0, 0, 0, 0, 0, 0, 0, 0, 0, 0, 0, 0], [0, 0, 0, 0, 0, 0, 0, 0, 0, 0, 0, 0, 0, 0], [0, 0, 0, 0, 0, 0, 0, 0, 0, 0, 0, 0, 0, 0, 0, 0, 0, 0, 0, 0, 0], [0, 0, 0, 0, 0, 0, 0, 0, 0, 0, 0, 0, 0], [0, 0, 0, 0, 0, 0, 0, 0, 0, 0, 0], [0, 0, 0, 0, 0, 0, 0, 0, 0, 0, 0, 0, 0, 0, 0, 0], [0, 0, 0, 0, 0, 0, 0, 0, 0, 0, 0, 0, 0, 0, 0, 0, 0, 0, 0, 0, 0, 0, 0, 0, 0, 0], [0, 0, 0, 0, 0, 0, 0, 0, 0, 0, 0, 0], [0, 0, 0, 0, 0, 0, 0, 0, 0, 0, 0, 0, 0, 0, 0, 0], [0, 0, 0, 0, 0, 0, 0, 0, 0, 0, 0, 0], [0, 0, 0, 0, 0, 0, 0, 0, 0, 0, 0, 0, 0, 0, 0, 0, 0, 0, 0, 0], [0, 0, 0, 0, 0, 0, 0, 0, 0, 0, 0, 0, 0, 0, 0], [0, 0, 0, 0, 0, 0, 0, 0, 0, 0, 0, 0, 0, 0, 0, 0, 0, 0, 0, 0, 0, 0, 0, 0, 0, 0, 0, 0, 0, 0, 0, 0, 0], [0, 0, 0, 0, 0, 0, 0, 0, 0, 0, 0, 0, 0, 0, 0, 0, 0, 0, 0, 0, 0, 0, 0, 0, 0, 0, 0, 0, 0, 0, 0, 0, 0, 0], [0, 0, 0, 0, 0, 0, 0, 0, 0, 0, 0, 0, 0, 0, 0, 0, 0, 0, 0, 0], [0, 0, 0, 0, 0, 0, 0, 0, 0, 0, 0, 0, 0, 0, 0, 0, 0, 0, 0, 0, 0, 0, 0, 0, 0, 0, 0, 0, 0], [0, 0, 0, 0, 0, 0, 0, 0, 0, 0, 0, 0, 0, 0], [0, 0, 0, 0, 0, 0, 0, 0, 0, 0, 0, 0, 0, 0, 0, 0, 0, 0, 0, 0, 0, 0, 0, 0, 0, 0, 0], [0, 0, 0, 0, 0, 0, 0, 0, 0, 0], [0, 0, 0, 0, 0, 0, 0, 0, 0, 0, 0, 0, 0, 0, 0], [0, 0, 0, 0, 0, 0, 0, 0, 0, 0, 0, 0, 0, 0, 0, 0, 0, 0, 0, 0, 0, 0, 0, 0, 0, 0, 0, 0, 0, 0, 0, 0, 0, 0], [0, 0, 0, 0, 0, 0, 0, 0, 0, 0, 0, 0, 0, 0, 0, 0, 0, 0, 0, 0, 0, 0, 0, 0, 0, 0, 0, 0, 0, 0, 0, 0, 0, 0, 0, 0, 0, 0, 0, 0, 0, 0, 0, 0, 0, 0, 0, 0, 0, 0, 0, 0, 0, 0, 0, 0, 0, 0, 0, 0, 0, 0, 0, 0], [0, 0, 0, 0, 0, 0, 0, 0, 0, 0, 0, 0, 0, 0, 0, 0], [0, 0, 0, 0, 0, 0, 0, 0, 0, 0, 0, 0, 0, 0, 0], [0, 0, 0, 0, 0, 0, 0, 0, 0, 0, 0, 0, 0]], 'attention_mask': [[1, 1, 1, 1, 1, 1, 1, 1, 1, 1, 1, 1, 1, 1, 1], [1, 1, 1, 1, 1, 1, 1, 1, 1, 1, 1], [1, 1, 1, 1, 1, 1, 1, 1, 1, 1, 1, 1, 1, 1, 1, 1, 1, 1, 1, 1, 1], [1, 1, 1, 1, 1, 1, 1, 1, 1, 1, 1, 1, 1, 1, 1, 1, 1, 1, 1, 1, 1, 1, 1, 1, 1, 1, 1, 1, 1, 1, 1, 1, 1], [1, 1, 1, 1, 1, 1, 1, 1, 1, 1, 1, 1, 1, 1, 1, 1], [1, 1, 1, 1, 1, 1, 1, 1, 1, 1, 1, 1, 1, 1, 1, 1], [1, 1, 1, 1, 1, 1, 1, 1, 1, 1, 1, 1, 1, 1, 1, 1, 1, 1, 1, 1], [1, 1, 1, 1, 1, 1, 1, 1, 1, 1, 1, 1, 1, 1, 1, 1, 1, 1, 1, 1, 1], [1, 1, 1, 1, 1, 1, 1, 1, 1, 1, 1, 1], [1, 1, 1, 1, 1, 1, 1, 1, 1, 1, 1, 1, 1, 1, 1, 1, 1, 1, 1, 1, 1, 1, 1, 1, 1, 1, 1, 1, 1], [1, 1, 1, 1, 1, 1, 1, 1, 1, 1, 1, 1, 1, 1, 1, 1, 1, 1, 1], [1, 1, 1, 1, 1, 1, 1, 1, 1, 1, 1, 1, 1, 1, 1, 1, 1, 1, 1, 1, 1, 1, 1, 1], [1, 1, 1, 1, 1, 1, 1, 1, 1, 1, 1, 1, 1, 1, 1], [1, 1, 1, 1, 1, 1, 1, 1, 1, 1, 1, 1, 1, 1, 1, 1, 1, 1, 1, 1, 1, 1, 1], [1, 1, 1, 1, 1, 1, 1, 1, 1, 1, 1, 1, 1, 1, 1, 1, 1, 1, 1, 1, 1, 1, 1, 1, 1, 1, 1, 1], [1, 1, 1, 1, 1, 1, 1, 1, 1, 1, 1, 1, 1, 1, 1, 1, 1, 1, 1, 1, 1, 1, 1, 1, 1, 1], [1, 1, 1, 1, 1, 1, 1, 1, 1, 1, 1, 1, 1, 1], [1, 1, 1, 1, 1, 1, 1, 1, 1, 1, 1, 1, 1, 1, 1, 1, 1, 1, 1, 1, 1], [1, 1, 1, 1, 1, 1, 1, 1, 1, 1, 1, 1, 1], [1, 1, 1, 1, 1, 1, 1, 1, 1, 1, 1], [1, 1, 1, 1, 1, 1, 1, 1, 1, 1, 1, 1, 1, 1, 1, 1], [1, 1, 1, 1, 1, 1, 1, 1, 1, 1, 1, 1, 1, 1, 1, 1, 1, 1, 1, 1, 1, 1, 1, 1, 1, 1], [1, 1, 1, 1, 1, 1, 1, 1, 1, 1, 1, 1], [1, 1, 1, 1, 1, 1, 1, 1, 1, 1, 1, 1, 1, 1, 1, 1], [1, 1, 1, 1, 1, 1, 1, 1, 1, 1, 1, 1], [1, 1, 1, 1, 1, 1, 1, 1, 1, 1, 1, 1, 1, 1, 1, 1, 1, 1, 1, 1], [1, 1, 1, 1, 1, 1, 1, 1, 1, 1, 1, 1, 1, 1, 1], [1, 1, 1, 1, 1, 1, 1, 1, 1, 1, 1, 1, 1, 1, 1, 1, 1, 1, 1, 1, 1, 1, 1, 1, 1, 1, 1, 1, 1, 1, 1, 1, 1], [1, 1, 1, 1, 1, 1, 1, 1, 1, 1, 1, 1, 1, 1, 1, 1, 1, 1, 1, 1, 1, 1, 1, 1, 1, 1, 1, 1, 1, 1, 1, 1, 1, 1], [1, 1, 1, 1, 1, 1, 1, 1, 1, 1, 1, 1, 1, 1, 1, 1, 1, 1, 1, 1], [1, 1, 1, 1, 1, 1, 1, 1, 1, 1, 1, 1, 1, 1, 1, 1, 1, 1, 1, 1, 1, 1, 1, 1, 1, 1, 1, 1, 1], [1, 1, 1, 1, 1, 1, 1, 1, 1, 1, 1, 1, 1, 1], [1, 1, 1, 1, 1, 1, 1, 1, 1, 1, 1, 1, 1, 1, 1, 1, 1, 1, 1, 1, 1, 1, 1, 1, 1, 1, 1], [1, 1, 1, 1, 1, 1, 1, 1, 1, 1], [1, 1, 1, 1, 1, 1, 1, 1, 1, 1, 1, 1, 1, 1, 1], [1, 1, 1, 1, 1, 1, 1, 1, 1, 1, 1, 1, 1, 1, 1, 1, 1, 1, 1, 1, 1, 1, 1, 1, 1, 1, 1, 1, 1, 1, 1, 1, 1, 1], [1, 1, 1, 1, 1, 1, 1, 1, 1, 1, 1, 1, 1, 1, 1, 1, 1, 1, 1, 1, 1, 1, 1, 1, 1, 1, 1, 1, 1, 1, 1, 1, 1, 1, 1, 1, 1, 1, 1, 1, 1, 1, 1, 1, 1, 1, 1, 1, 1, 1, 1, 1, 1, 1, 1, 1, 1, 1, 1, 1, 1, 1, 1, 1], [1, 1, 1, 1, 1, 1, 1, 1, 1, 1, 1, 1, 1, 1, 1, 1], [1, 1, 1, 1, 1, 1, 1, 1, 1, 1, 1, 1, 1, 1, 1], [1, 1, 1, 1, 1, 1, 1, 1, 1, 1, 1, 1, 1]]}\n"
          ]
        }
      ],
      "source": [
        "print(small_eval_dataset[:40])"
      ]
    },
    {
      "cell_type": "code",
      "source": [
        "import tensorflow as tf\n",
        "\n",
        "# Sentence to be classified\n",
        "sentence = \" انه ا .\"\n",
        "\n",
        "# Tokenize the sentence\n",
        "input = tokenize_function_raw(sentence)[\"input_ids\"]\n",
        "\n",
        "# Make the prediction\n",
        "predictions = model.predict([input])\n",
        "predicted_label = tf.argmax(predictions.logits, axis=1).numpy()[0]\n",
        "\n",
        "print(\"Input:\", sentence)\n",
        "print(\"Predicted label:\", predicted_label)\n"
      ],
      "metadata": {
        "colab": {
          "base_uri": "https://localhost:8080/"
        },
        "id": "wwWxSL3Ox22y",
        "outputId": "010d3d63-22f7-457f-aeb2-62d39cf037e2"
      },
      "execution_count": null,
      "outputs": [
        {
          "output_type": "stream",
          "name": "stdout",
          "text": [
            "1/1 [==============================] - 0s 84ms/step\n",
            "Input:  انه ا .\n",
            "Predicted label: 0\n"
          ]
        }
      ]
    },
    {
      "cell_type": "code",
      "execution_count": null,
      "metadata": {
        "colab": {
          "base_uri": "https://localhost:8080/"
        },
        "id": "KMSPoeKzTGL_",
        "outputId": "9fd8fdef-700b-45b5-9283-53e91fe08050"
      },
      "outputs": [
        {
          "output_type": "stream",
          "name": "stdout",
          "text": [
            "1/1 [==============================] - 7s 7s/step\n",
            "Input: أنا  leave ئأكل   يسافر إلى الكتاب.\n",
            "Predicted label: 0\n",
            "\n",
            "1/1 [==============================] - 3s 3s/step\n",
            "Input: التلفزيون على يسافر إلى المطار في.\n",
            "Predicted label: 0\n",
            "\n",
            "1/1 [==============================] - 0s 55ms/step\n",
            "Input: أشرب الكت ان اب في الصباح timer.\n",
            "Predicted label: 0\n",
            "\n",
            "1/1 [==============================] - 0s 56ms/step\n",
            "Input:  تق ود أنا أسكن في البيت.\n",
            "Predicted label: 0\n",
            "\n",
            "1/1 [==============================] - 0s 55ms/step\n",
            "Input: الطاولة تقود السيارة.\n",
            "Predicted label: 1\n",
            "\n",
            "1/1 [==============================] - 0s 56ms/step\n",
            "Input: في أنا أرقص مع الكتب.\n",
            "Predicted label: 0\n",
            "\n",
            "1/1 [==============================] - 0s 57ms/step\n",
            "Input: الأسد يسبح في البحر.\n",
            "Predicted label: 1\n",
            "\n",
            "1/1 [==============================] - 0s 56ms/step\n",
            "Input: أنا ألبس   تسكن في الغرفة.\n",
            "Predicted label: 1\n",
            "\n",
            "1/1 [==============================] - 0s 57ms/step\n",
            "Input: الطائرة تسكن في الغابة.\n",
            "Predicted label: 1\n",
            "\n",
            "1/1 [==============================] - 0s 62ms/step\n",
            "Input: أنا أكتب بالماء.\n",
            "Predicted label: 1\n",
            "\n"
          ]
        }
      ],
      "source": [
        "import tensorflow as tf\n",
        "#raw = 'تشارك في نوع من العمليات للحصول على شيء '\n",
        "bad_sentences = [\n",
        "    \"أنا  leave ئأكل   يسافر إلى الكتاب.\",\n",
        "    \"التلفزيون على يسافر إلى المطار في.\",\n",
        "    \"أشرب الكت ان اب في الصباح timer.\",\n",
        "    \" تق ود أنا أسكن في البيت.\",\n",
        "    \"الطاولة تقود السيارة.\",\n",
        "    \"في أنا أرقص مع الكتب.\",\n",
        "    \"الأسد يسبح في البحر.\",\n",
        "    \"أنا ألبس   تسكن في الغرفة.\",\n",
        "    \"الطائرة تسكن في الغابة.\",\n",
        "    \"أنا أكتب بالماء.\"\n",
        "]\n",
        "inputs=[tokenize_function_raw(raw) for raw in bad_sentences]\n",
        "input_ids = []\n",
        "for input in inputs :\n",
        "  input_ids.append(input[\"input_ids\"])\n",
        "\n",
        "#attention_mask = inputs[\"attention_mask\"]\n",
        "#print(input_ids)\n",
        "for i,input in enumerate(input_ids):\n",
        "  predictions = model.predict([input])\n",
        "  predicted_labels = tf.argmax(predictions.logits, axis=1).numpy()\n",
        "  print(\"Input:\", bad_sentences[i])\n",
        "  print(\"Predicted label:\", predicted_labels[0])\n",
        "  print()"
      ]
    },
    {
      "cell_type": "code",
      "execution_count": null,
      "metadata": {
        "colab": {
          "base_uri": "https://localhost:8080/"
        },
        "id": "fiYLsFjmUbn5",
        "outputId": "47ca6758-0c25-450d-c80d-9bac57e3e5c3"
      },
      "outputs": [
        {
          "output_type": "stream",
          "name": "stdout",
          "text": [
            "{'label': 0, 'text': 'وجهها خياطة خاوف جعلت الم far far ', 'input_ids': [33, 1112, 10, 9383, 12, 48642, 246, 1968, 16, 7214, 102, 4673, 102, 4673, 34], 'token_type_ids': [0, 0, 0, 0, 0, 0, 0, 0, 0, 0, 0, 0, 0, 0, 0], 'attention_mask': [1, 1, 1, 1, 1, 1, 1, 1, 1, 1, 1, 1, 1, 1, 1]}\n"
          ]
        }
      ],
      "source": [
        "print((small_eval_dataset[0]))"
      ]
    },
    {
      "cell_type": "code",
      "source": [
        "accuracy = 0\n",
        "for input in small_eval_dataset :\n",
        "\n",
        "  predictions = model.predict([input[\"input_ids\"]])\n",
        "  predicted_labels = tf.argmax(predictions.logits, axis=1).numpy()\n",
        "  if( predicted_labels[0] == input[\"label\"]) :\n",
        "    accuracy +=1\n",
        "\n",
        "accuracy = accuracy / len(small_eval_dataset)\n",
        "print(accuracy)\n"
      ],
      "metadata": {
        "id": "ChEqLXGAoK8u"
      },
      "execution_count": null,
      "outputs": []
    },
    {
      "cell_type": "code",
      "source": [],
      "metadata": {
        "id": "p74vdzUzE-8f"
      },
      "execution_count": null,
      "outputs": []
    }
  ],
  "metadata": {
    "accelerator": "GPU",
    "colab": {
      "provenance": []
    },
    "kernelspec": {
      "display_name": "Python 3",
      "name": "python3"
    },
    "language_info": {
      "name": "python"
    },
    "widgets": {
      "application/vnd.jupyter.widget-state+json": {
        "fde52b2420d94a5e96cd19e567e5c9d1": {
          "model_module": "@jupyter-widgets/controls",
          "model_name": "HBoxModel",
          "model_module_version": "1.5.0",
          "state": {
            "_dom_classes": [],
            "_model_module": "@jupyter-widgets/controls",
            "_model_module_version": "1.5.0",
            "_model_name": "HBoxModel",
            "_view_count": null,
            "_view_module": "@jupyter-widgets/controls",
            "_view_module_version": "1.5.0",
            "_view_name": "HBoxView",
            "box_style": "",
            "children": [
              "IPY_MODEL_615a7d11403041c7a9c72725290834c6",
              "IPY_MODEL_5a3d3586889543eaaeb9b99fe7c25bbf",
              "IPY_MODEL_0d4cd96d3a104c8f919b94b25e23fd79"
            ],
            "layout": "IPY_MODEL_d1d27e13bdfe4f6aba6e06108e37e3a6"
          }
        },
        "615a7d11403041c7a9c72725290834c6": {
          "model_module": "@jupyter-widgets/controls",
          "model_name": "HTMLModel",
          "model_module_version": "1.5.0",
          "state": {
            "_dom_classes": [],
            "_model_module": "@jupyter-widgets/controls",
            "_model_module_version": "1.5.0",
            "_model_name": "HTMLModel",
            "_view_count": null,
            "_view_module": "@jupyter-widgets/controls",
            "_view_module_version": "1.5.0",
            "_view_name": "HTMLView",
            "description": "",
            "description_tooltip": null,
            "layout": "IPY_MODEL_3261d09f25dd4f9e907778c8b7a48c25",
            "placeholder": "​",
            "style": "IPY_MODEL_e1e4d9715b9f47968a554e0bd3ebdb1b",
            "value": "Map: 100%"
          }
        },
        "5a3d3586889543eaaeb9b99fe7c25bbf": {
          "model_module": "@jupyter-widgets/controls",
          "model_name": "FloatProgressModel",
          "model_module_version": "1.5.0",
          "state": {
            "_dom_classes": [],
            "_model_module": "@jupyter-widgets/controls",
            "_model_module_version": "1.5.0",
            "_model_name": "FloatProgressModel",
            "_view_count": null,
            "_view_module": "@jupyter-widgets/controls",
            "_view_module_version": "1.5.0",
            "_view_name": "ProgressView",
            "bar_style": "",
            "description": "",
            "description_tooltip": null,
            "layout": "IPY_MODEL_0f59dae207554b7a99b8c62ad9abb990",
            "max": 89521,
            "min": 0,
            "orientation": "horizontal",
            "style": "IPY_MODEL_268c1081a3e243aaa0b1cb61e3c56bb4",
            "value": 89521
          }
        },
        "0d4cd96d3a104c8f919b94b25e23fd79": {
          "model_module": "@jupyter-widgets/controls",
          "model_name": "HTMLModel",
          "model_module_version": "1.5.0",
          "state": {
            "_dom_classes": [],
            "_model_module": "@jupyter-widgets/controls",
            "_model_module_version": "1.5.0",
            "_model_name": "HTMLModel",
            "_view_count": null,
            "_view_module": "@jupyter-widgets/controls",
            "_view_module_version": "1.5.0",
            "_view_name": "HTMLView",
            "description": "",
            "description_tooltip": null,
            "layout": "IPY_MODEL_76d9707e96d049a0a297313e94595d7b",
            "placeholder": "​",
            "style": "IPY_MODEL_9d63e70b986f43f685a642b8913bcb5b",
            "value": " 89464/89521 [02:23&lt;00:00, 772.43 examples/s]"
          }
        },
        "d1d27e13bdfe4f6aba6e06108e37e3a6": {
          "model_module": "@jupyter-widgets/base",
          "model_name": "LayoutModel",
          "model_module_version": "1.2.0",
          "state": {
            "_model_module": "@jupyter-widgets/base",
            "_model_module_version": "1.2.0",
            "_model_name": "LayoutModel",
            "_view_count": null,
            "_view_module": "@jupyter-widgets/base",
            "_view_module_version": "1.2.0",
            "_view_name": "LayoutView",
            "align_content": null,
            "align_items": null,
            "align_self": null,
            "border": null,
            "bottom": null,
            "display": null,
            "flex": null,
            "flex_flow": null,
            "grid_area": null,
            "grid_auto_columns": null,
            "grid_auto_flow": null,
            "grid_auto_rows": null,
            "grid_column": null,
            "grid_gap": null,
            "grid_row": null,
            "grid_template_areas": null,
            "grid_template_columns": null,
            "grid_template_rows": null,
            "height": null,
            "justify_content": null,
            "justify_items": null,
            "left": null,
            "margin": null,
            "max_height": null,
            "max_width": null,
            "min_height": null,
            "min_width": null,
            "object_fit": null,
            "object_position": null,
            "order": null,
            "overflow": null,
            "overflow_x": null,
            "overflow_y": null,
            "padding": null,
            "right": null,
            "top": null,
            "visibility": "hidden",
            "width": null
          }
        },
        "3261d09f25dd4f9e907778c8b7a48c25": {
          "model_module": "@jupyter-widgets/base",
          "model_name": "LayoutModel",
          "model_module_version": "1.2.0",
          "state": {
            "_model_module": "@jupyter-widgets/base",
            "_model_module_version": "1.2.0",
            "_model_name": "LayoutModel",
            "_view_count": null,
            "_view_module": "@jupyter-widgets/base",
            "_view_module_version": "1.2.0",
            "_view_name": "LayoutView",
            "align_content": null,
            "align_items": null,
            "align_self": null,
            "border": null,
            "bottom": null,
            "display": null,
            "flex": null,
            "flex_flow": null,
            "grid_area": null,
            "grid_auto_columns": null,
            "grid_auto_flow": null,
            "grid_auto_rows": null,
            "grid_column": null,
            "grid_gap": null,
            "grid_row": null,
            "grid_template_areas": null,
            "grid_template_columns": null,
            "grid_template_rows": null,
            "height": null,
            "justify_content": null,
            "justify_items": null,
            "left": null,
            "margin": null,
            "max_height": null,
            "max_width": null,
            "min_height": null,
            "min_width": null,
            "object_fit": null,
            "object_position": null,
            "order": null,
            "overflow": null,
            "overflow_x": null,
            "overflow_y": null,
            "padding": null,
            "right": null,
            "top": null,
            "visibility": null,
            "width": null
          }
        },
        "e1e4d9715b9f47968a554e0bd3ebdb1b": {
          "model_module": "@jupyter-widgets/controls",
          "model_name": "DescriptionStyleModel",
          "model_module_version": "1.5.0",
          "state": {
            "_model_module": "@jupyter-widgets/controls",
            "_model_module_version": "1.5.0",
            "_model_name": "DescriptionStyleModel",
            "_view_count": null,
            "_view_module": "@jupyter-widgets/base",
            "_view_module_version": "1.2.0",
            "_view_name": "StyleView",
            "description_width": ""
          }
        },
        "0f59dae207554b7a99b8c62ad9abb990": {
          "model_module": "@jupyter-widgets/base",
          "model_name": "LayoutModel",
          "model_module_version": "1.2.0",
          "state": {
            "_model_module": "@jupyter-widgets/base",
            "_model_module_version": "1.2.0",
            "_model_name": "LayoutModel",
            "_view_count": null,
            "_view_module": "@jupyter-widgets/base",
            "_view_module_version": "1.2.0",
            "_view_name": "LayoutView",
            "align_content": null,
            "align_items": null,
            "align_self": null,
            "border": null,
            "bottom": null,
            "display": null,
            "flex": null,
            "flex_flow": null,
            "grid_area": null,
            "grid_auto_columns": null,
            "grid_auto_flow": null,
            "grid_auto_rows": null,
            "grid_column": null,
            "grid_gap": null,
            "grid_row": null,
            "grid_template_areas": null,
            "grid_template_columns": null,
            "grid_template_rows": null,
            "height": null,
            "justify_content": null,
            "justify_items": null,
            "left": null,
            "margin": null,
            "max_height": null,
            "max_width": null,
            "min_height": null,
            "min_width": null,
            "object_fit": null,
            "object_position": null,
            "order": null,
            "overflow": null,
            "overflow_x": null,
            "overflow_y": null,
            "padding": null,
            "right": null,
            "top": null,
            "visibility": null,
            "width": null
          }
        },
        "268c1081a3e243aaa0b1cb61e3c56bb4": {
          "model_module": "@jupyter-widgets/controls",
          "model_name": "ProgressStyleModel",
          "model_module_version": "1.5.0",
          "state": {
            "_model_module": "@jupyter-widgets/controls",
            "_model_module_version": "1.5.0",
            "_model_name": "ProgressStyleModel",
            "_view_count": null,
            "_view_module": "@jupyter-widgets/base",
            "_view_module_version": "1.2.0",
            "_view_name": "StyleView",
            "bar_color": null,
            "description_width": ""
          }
        },
        "76d9707e96d049a0a297313e94595d7b": {
          "model_module": "@jupyter-widgets/base",
          "model_name": "LayoutModel",
          "model_module_version": "1.2.0",
          "state": {
            "_model_module": "@jupyter-widgets/base",
            "_model_module_version": "1.2.0",
            "_model_name": "LayoutModel",
            "_view_count": null,
            "_view_module": "@jupyter-widgets/base",
            "_view_module_version": "1.2.0",
            "_view_name": "LayoutView",
            "align_content": null,
            "align_items": null,
            "align_self": null,
            "border": null,
            "bottom": null,
            "display": null,
            "flex": null,
            "flex_flow": null,
            "grid_area": null,
            "grid_auto_columns": null,
            "grid_auto_flow": null,
            "grid_auto_rows": null,
            "grid_column": null,
            "grid_gap": null,
            "grid_row": null,
            "grid_template_areas": null,
            "grid_template_columns": null,
            "grid_template_rows": null,
            "height": null,
            "justify_content": null,
            "justify_items": null,
            "left": null,
            "margin": null,
            "max_height": null,
            "max_width": null,
            "min_height": null,
            "min_width": null,
            "object_fit": null,
            "object_position": null,
            "order": null,
            "overflow": null,
            "overflow_x": null,
            "overflow_y": null,
            "padding": null,
            "right": null,
            "top": null,
            "visibility": null,
            "width": null
          }
        },
        "9d63e70b986f43f685a642b8913bcb5b": {
          "model_module": "@jupyter-widgets/controls",
          "model_name": "DescriptionStyleModel",
          "model_module_version": "1.5.0",
          "state": {
            "_model_module": "@jupyter-widgets/controls",
            "_model_module_version": "1.5.0",
            "_model_name": "DescriptionStyleModel",
            "_view_count": null,
            "_view_module": "@jupyter-widgets/base",
            "_view_module_version": "1.2.0",
            "_view_name": "StyleView",
            "description_width": ""
          }
        },
        "1f9ef5d2c78b49f58932e1e9729a04f2": {
          "model_module": "@jupyter-widgets/controls",
          "model_name": "HBoxModel",
          "model_module_version": "1.5.0",
          "state": {
            "_dom_classes": [],
            "_model_module": "@jupyter-widgets/controls",
            "_model_module_version": "1.5.0",
            "_model_name": "HBoxModel",
            "_view_count": null,
            "_view_module": "@jupyter-widgets/controls",
            "_view_module_version": "1.5.0",
            "_view_name": "HBoxView",
            "box_style": "",
            "children": [
              "IPY_MODEL_14d5bf6ad44547ca99f210cc587f7be6",
              "IPY_MODEL_5e88969cabcb40318a037d4d40a504c2",
              "IPY_MODEL_6543bf6cdbf34db5a96cfe433107b010"
            ],
            "layout": "IPY_MODEL_1fbe54e03c894c66984e150cfc88ad2b"
          }
        },
        "14d5bf6ad44547ca99f210cc587f7be6": {
          "model_module": "@jupyter-widgets/controls",
          "model_name": "HTMLModel",
          "model_module_version": "1.5.0",
          "state": {
            "_dom_classes": [],
            "_model_module": "@jupyter-widgets/controls",
            "_model_module_version": "1.5.0",
            "_model_name": "HTMLModel",
            "_view_count": null,
            "_view_module": "@jupyter-widgets/controls",
            "_view_module_version": "1.5.0",
            "_view_name": "HTMLView",
            "description": "",
            "description_tooltip": null,
            "layout": "IPY_MODEL_9098642575a048d1aaeecb2c70d3fd6a",
            "placeholder": "​",
            "style": "IPY_MODEL_f1e96d5e65c346cea598fd1e059938ef",
            "value": "Map: 100%"
          }
        },
        "5e88969cabcb40318a037d4d40a504c2": {
          "model_module": "@jupyter-widgets/controls",
          "model_name": "FloatProgressModel",
          "model_module_version": "1.5.0",
          "state": {
            "_dom_classes": [],
            "_model_module": "@jupyter-widgets/controls",
            "_model_module_version": "1.5.0",
            "_model_name": "FloatProgressModel",
            "_view_count": null,
            "_view_module": "@jupyter-widgets/controls",
            "_view_module_version": "1.5.0",
            "_view_name": "ProgressView",
            "bar_style": "",
            "description": "",
            "description_tooltip": null,
            "layout": "IPY_MODEL_f1320db9bbf841108c63ddd0284cc83b",
            "max": 44093,
            "min": 0,
            "orientation": "horizontal",
            "style": "IPY_MODEL_6794525229a044ce81b6eb08392d1b5a",
            "value": 44093
          }
        },
        "6543bf6cdbf34db5a96cfe433107b010": {
          "model_module": "@jupyter-widgets/controls",
          "model_name": "HTMLModel",
          "model_module_version": "1.5.0",
          "state": {
            "_dom_classes": [],
            "_model_module": "@jupyter-widgets/controls",
            "_model_module_version": "1.5.0",
            "_model_name": "HTMLModel",
            "_view_count": null,
            "_view_module": "@jupyter-widgets/controls",
            "_view_module_version": "1.5.0",
            "_view_name": "HTMLView",
            "description": "",
            "description_tooltip": null,
            "layout": "IPY_MODEL_aeb809744915459593d9ea40bfb9655f",
            "placeholder": "​",
            "style": "IPY_MODEL_f0b799f851da43babe32e8f67663fcdf",
            "value": " 44083/44093 [01:02&lt;00:00, 789.97 examples/s]"
          }
        },
        "1fbe54e03c894c66984e150cfc88ad2b": {
          "model_module": "@jupyter-widgets/base",
          "model_name": "LayoutModel",
          "model_module_version": "1.2.0",
          "state": {
            "_model_module": "@jupyter-widgets/base",
            "_model_module_version": "1.2.0",
            "_model_name": "LayoutModel",
            "_view_count": null,
            "_view_module": "@jupyter-widgets/base",
            "_view_module_version": "1.2.0",
            "_view_name": "LayoutView",
            "align_content": null,
            "align_items": null,
            "align_self": null,
            "border": null,
            "bottom": null,
            "display": null,
            "flex": null,
            "flex_flow": null,
            "grid_area": null,
            "grid_auto_columns": null,
            "grid_auto_flow": null,
            "grid_auto_rows": null,
            "grid_column": null,
            "grid_gap": null,
            "grid_row": null,
            "grid_template_areas": null,
            "grid_template_columns": null,
            "grid_template_rows": null,
            "height": null,
            "justify_content": null,
            "justify_items": null,
            "left": null,
            "margin": null,
            "max_height": null,
            "max_width": null,
            "min_height": null,
            "min_width": null,
            "object_fit": null,
            "object_position": null,
            "order": null,
            "overflow": null,
            "overflow_x": null,
            "overflow_y": null,
            "padding": null,
            "right": null,
            "top": null,
            "visibility": "hidden",
            "width": null
          }
        },
        "9098642575a048d1aaeecb2c70d3fd6a": {
          "model_module": "@jupyter-widgets/base",
          "model_name": "LayoutModel",
          "model_module_version": "1.2.0",
          "state": {
            "_model_module": "@jupyter-widgets/base",
            "_model_module_version": "1.2.0",
            "_model_name": "LayoutModel",
            "_view_count": null,
            "_view_module": "@jupyter-widgets/base",
            "_view_module_version": "1.2.0",
            "_view_name": "LayoutView",
            "align_content": null,
            "align_items": null,
            "align_self": null,
            "border": null,
            "bottom": null,
            "display": null,
            "flex": null,
            "flex_flow": null,
            "grid_area": null,
            "grid_auto_columns": null,
            "grid_auto_flow": null,
            "grid_auto_rows": null,
            "grid_column": null,
            "grid_gap": null,
            "grid_row": null,
            "grid_template_areas": null,
            "grid_template_columns": null,
            "grid_template_rows": null,
            "height": null,
            "justify_content": null,
            "justify_items": null,
            "left": null,
            "margin": null,
            "max_height": null,
            "max_width": null,
            "min_height": null,
            "min_width": null,
            "object_fit": null,
            "object_position": null,
            "order": null,
            "overflow": null,
            "overflow_x": null,
            "overflow_y": null,
            "padding": null,
            "right": null,
            "top": null,
            "visibility": null,
            "width": null
          }
        },
        "f1e96d5e65c346cea598fd1e059938ef": {
          "model_module": "@jupyter-widgets/controls",
          "model_name": "DescriptionStyleModel",
          "model_module_version": "1.5.0",
          "state": {
            "_model_module": "@jupyter-widgets/controls",
            "_model_module_version": "1.5.0",
            "_model_name": "DescriptionStyleModel",
            "_view_count": null,
            "_view_module": "@jupyter-widgets/base",
            "_view_module_version": "1.2.0",
            "_view_name": "StyleView",
            "description_width": ""
          }
        },
        "f1320db9bbf841108c63ddd0284cc83b": {
          "model_module": "@jupyter-widgets/base",
          "model_name": "LayoutModel",
          "model_module_version": "1.2.0",
          "state": {
            "_model_module": "@jupyter-widgets/base",
            "_model_module_version": "1.2.0",
            "_model_name": "LayoutModel",
            "_view_count": null,
            "_view_module": "@jupyter-widgets/base",
            "_view_module_version": "1.2.0",
            "_view_name": "LayoutView",
            "align_content": null,
            "align_items": null,
            "align_self": null,
            "border": null,
            "bottom": null,
            "display": null,
            "flex": null,
            "flex_flow": null,
            "grid_area": null,
            "grid_auto_columns": null,
            "grid_auto_flow": null,
            "grid_auto_rows": null,
            "grid_column": null,
            "grid_gap": null,
            "grid_row": null,
            "grid_template_areas": null,
            "grid_template_columns": null,
            "grid_template_rows": null,
            "height": null,
            "justify_content": null,
            "justify_items": null,
            "left": null,
            "margin": null,
            "max_height": null,
            "max_width": null,
            "min_height": null,
            "min_width": null,
            "object_fit": null,
            "object_position": null,
            "order": null,
            "overflow": null,
            "overflow_x": null,
            "overflow_y": null,
            "padding": null,
            "right": null,
            "top": null,
            "visibility": null,
            "width": null
          }
        },
        "6794525229a044ce81b6eb08392d1b5a": {
          "model_module": "@jupyter-widgets/controls",
          "model_name": "ProgressStyleModel",
          "model_module_version": "1.5.0",
          "state": {
            "_model_module": "@jupyter-widgets/controls",
            "_model_module_version": "1.5.0",
            "_model_name": "ProgressStyleModel",
            "_view_count": null,
            "_view_module": "@jupyter-widgets/base",
            "_view_module_version": "1.2.0",
            "_view_name": "StyleView",
            "bar_color": null,
            "description_width": ""
          }
        },
        "aeb809744915459593d9ea40bfb9655f": {
          "model_module": "@jupyter-widgets/base",
          "model_name": "LayoutModel",
          "model_module_version": "1.2.0",
          "state": {
            "_model_module": "@jupyter-widgets/base",
            "_model_module_version": "1.2.0",
            "_model_name": "LayoutModel",
            "_view_count": null,
            "_view_module": "@jupyter-widgets/base",
            "_view_module_version": "1.2.0",
            "_view_name": "LayoutView",
            "align_content": null,
            "align_items": null,
            "align_self": null,
            "border": null,
            "bottom": null,
            "display": null,
            "flex": null,
            "flex_flow": null,
            "grid_area": null,
            "grid_auto_columns": null,
            "grid_auto_flow": null,
            "grid_auto_rows": null,
            "grid_column": null,
            "grid_gap": null,
            "grid_row": null,
            "grid_template_areas": null,
            "grid_template_columns": null,
            "grid_template_rows": null,
            "height": null,
            "justify_content": null,
            "justify_items": null,
            "left": null,
            "margin": null,
            "max_height": null,
            "max_width": null,
            "min_height": null,
            "min_width": null,
            "object_fit": null,
            "object_position": null,
            "order": null,
            "overflow": null,
            "overflow_x": null,
            "overflow_y": null,
            "padding": null,
            "right": null,
            "top": null,
            "visibility": null,
            "width": null
          }
        },
        "f0b799f851da43babe32e8f67663fcdf": {
          "model_module": "@jupyter-widgets/controls",
          "model_name": "DescriptionStyleModel",
          "model_module_version": "1.5.0",
          "state": {
            "_model_module": "@jupyter-widgets/controls",
            "_model_module_version": "1.5.0",
            "_model_name": "DescriptionStyleModel",
            "_view_count": null,
            "_view_module": "@jupyter-widgets/base",
            "_view_module_version": "1.2.0",
            "_view_name": "StyleView",
            "description_width": ""
          }
        },
        "03ac03c6a03c4ab9b1e2e188ed7cb898": {
          "model_module": "@jupyter-widgets/controls",
          "model_name": "HBoxModel",
          "model_module_version": "1.5.0",
          "state": {
            "_dom_classes": [],
            "_model_module": "@jupyter-widgets/controls",
            "_model_module_version": "1.5.0",
            "_model_name": "HBoxModel",
            "_view_count": null,
            "_view_module": "@jupyter-widgets/controls",
            "_view_module_version": "1.5.0",
            "_view_name": "HBoxView",
            "box_style": "",
            "children": [
              "IPY_MODEL_f9216d11abf1468da449d716f5041f77",
              "IPY_MODEL_e2de93c03b96491abf59966835f1003c",
              "IPY_MODEL_0b50d9b1091f4d7c9fdeca11eeaa8c72"
            ],
            "layout": "IPY_MODEL_4e5ead807e4c43f3bd53d0e9fb3cf6c3"
          }
        },
        "f9216d11abf1468da449d716f5041f77": {
          "model_module": "@jupyter-widgets/controls",
          "model_name": "HTMLModel",
          "model_module_version": "1.5.0",
          "state": {
            "_dom_classes": [],
            "_model_module": "@jupyter-widgets/controls",
            "_model_module_version": "1.5.0",
            "_model_name": "HTMLModel",
            "_view_count": null,
            "_view_module": "@jupyter-widgets/controls",
            "_view_module_version": "1.5.0",
            "_view_name": "HTMLView",
            "description": "",
            "description_tooltip": null,
            "layout": "IPY_MODEL_463b49cbefe14f10b659ea55af6a1654",
            "placeholder": "​",
            "style": "IPY_MODEL_d38e43d1da284d23bf2af245c09e9a04",
            "value": "Downloading (…)okenizer_config.json: 100%"
          }
        },
        "e2de93c03b96491abf59966835f1003c": {
          "model_module": "@jupyter-widgets/controls",
          "model_name": "FloatProgressModel",
          "model_module_version": "1.5.0",
          "state": {
            "_dom_classes": [],
            "_model_module": "@jupyter-widgets/controls",
            "_model_module_version": "1.5.0",
            "_model_name": "FloatProgressModel",
            "_view_count": null,
            "_view_module": "@jupyter-widgets/controls",
            "_view_module_version": "1.5.0",
            "_view_name": "ProgressView",
            "bar_style": "success",
            "description": "",
            "description_tooltip": null,
            "layout": "IPY_MODEL_143d48a359cd4c9bb2ca40b2606c480d",
            "max": 611,
            "min": 0,
            "orientation": "horizontal",
            "style": "IPY_MODEL_8b6e64c3a4a647f5a8bdf4390ea8c70d",
            "value": 611
          }
        },
        "0b50d9b1091f4d7c9fdeca11eeaa8c72": {
          "model_module": "@jupyter-widgets/controls",
          "model_name": "HTMLModel",
          "model_module_version": "1.5.0",
          "state": {
            "_dom_classes": [],
            "_model_module": "@jupyter-widgets/controls",
            "_model_module_version": "1.5.0",
            "_model_name": "HTMLModel",
            "_view_count": null,
            "_view_module": "@jupyter-widgets/controls",
            "_view_module_version": "1.5.0",
            "_view_name": "HTMLView",
            "description": "",
            "description_tooltip": null,
            "layout": "IPY_MODEL_58e749db97ad4d7298e61e9ab6625b3f",
            "placeholder": "​",
            "style": "IPY_MODEL_cd04d10c53404c72883a5a1e74dd94ad",
            "value": " 611/611 [00:00&lt;00:00, 39.5kB/s]"
          }
        },
        "4e5ead807e4c43f3bd53d0e9fb3cf6c3": {
          "model_module": "@jupyter-widgets/base",
          "model_name": "LayoutModel",
          "model_module_version": "1.2.0",
          "state": {
            "_model_module": "@jupyter-widgets/base",
            "_model_module_version": "1.2.0",
            "_model_name": "LayoutModel",
            "_view_count": null,
            "_view_module": "@jupyter-widgets/base",
            "_view_module_version": "1.2.0",
            "_view_name": "LayoutView",
            "align_content": null,
            "align_items": null,
            "align_self": null,
            "border": null,
            "bottom": null,
            "display": null,
            "flex": null,
            "flex_flow": null,
            "grid_area": null,
            "grid_auto_columns": null,
            "grid_auto_flow": null,
            "grid_auto_rows": null,
            "grid_column": null,
            "grid_gap": null,
            "grid_row": null,
            "grid_template_areas": null,
            "grid_template_columns": null,
            "grid_template_rows": null,
            "height": null,
            "justify_content": null,
            "justify_items": null,
            "left": null,
            "margin": null,
            "max_height": null,
            "max_width": null,
            "min_height": null,
            "min_width": null,
            "object_fit": null,
            "object_position": null,
            "order": null,
            "overflow": null,
            "overflow_x": null,
            "overflow_y": null,
            "padding": null,
            "right": null,
            "top": null,
            "visibility": null,
            "width": null
          }
        },
        "463b49cbefe14f10b659ea55af6a1654": {
          "model_module": "@jupyter-widgets/base",
          "model_name": "LayoutModel",
          "model_module_version": "1.2.0",
          "state": {
            "_model_module": "@jupyter-widgets/base",
            "_model_module_version": "1.2.0",
            "_model_name": "LayoutModel",
            "_view_count": null,
            "_view_module": "@jupyter-widgets/base",
            "_view_module_version": "1.2.0",
            "_view_name": "LayoutView",
            "align_content": null,
            "align_items": null,
            "align_self": null,
            "border": null,
            "bottom": null,
            "display": null,
            "flex": null,
            "flex_flow": null,
            "grid_area": null,
            "grid_auto_columns": null,
            "grid_auto_flow": null,
            "grid_auto_rows": null,
            "grid_column": null,
            "grid_gap": null,
            "grid_row": null,
            "grid_template_areas": null,
            "grid_template_columns": null,
            "grid_template_rows": null,
            "height": null,
            "justify_content": null,
            "justify_items": null,
            "left": null,
            "margin": null,
            "max_height": null,
            "max_width": null,
            "min_height": null,
            "min_width": null,
            "object_fit": null,
            "object_position": null,
            "order": null,
            "overflow": null,
            "overflow_x": null,
            "overflow_y": null,
            "padding": null,
            "right": null,
            "top": null,
            "visibility": null,
            "width": null
          }
        },
        "d38e43d1da284d23bf2af245c09e9a04": {
          "model_module": "@jupyter-widgets/controls",
          "model_name": "DescriptionStyleModel",
          "model_module_version": "1.5.0",
          "state": {
            "_model_module": "@jupyter-widgets/controls",
            "_model_module_version": "1.5.0",
            "_model_name": "DescriptionStyleModel",
            "_view_count": null,
            "_view_module": "@jupyter-widgets/base",
            "_view_module_version": "1.2.0",
            "_view_name": "StyleView",
            "description_width": ""
          }
        },
        "143d48a359cd4c9bb2ca40b2606c480d": {
          "model_module": "@jupyter-widgets/base",
          "model_name": "LayoutModel",
          "model_module_version": "1.2.0",
          "state": {
            "_model_module": "@jupyter-widgets/base",
            "_model_module_version": "1.2.0",
            "_model_name": "LayoutModel",
            "_view_count": null,
            "_view_module": "@jupyter-widgets/base",
            "_view_module_version": "1.2.0",
            "_view_name": "LayoutView",
            "align_content": null,
            "align_items": null,
            "align_self": null,
            "border": null,
            "bottom": null,
            "display": null,
            "flex": null,
            "flex_flow": null,
            "grid_area": null,
            "grid_auto_columns": null,
            "grid_auto_flow": null,
            "grid_auto_rows": null,
            "grid_column": null,
            "grid_gap": null,
            "grid_row": null,
            "grid_template_areas": null,
            "grid_template_columns": null,
            "grid_template_rows": null,
            "height": null,
            "justify_content": null,
            "justify_items": null,
            "left": null,
            "margin": null,
            "max_height": null,
            "max_width": null,
            "min_height": null,
            "min_width": null,
            "object_fit": null,
            "object_position": null,
            "order": null,
            "overflow": null,
            "overflow_x": null,
            "overflow_y": null,
            "padding": null,
            "right": null,
            "top": null,
            "visibility": null,
            "width": null
          }
        },
        "8b6e64c3a4a647f5a8bdf4390ea8c70d": {
          "model_module": "@jupyter-widgets/controls",
          "model_name": "ProgressStyleModel",
          "model_module_version": "1.5.0",
          "state": {
            "_model_module": "@jupyter-widgets/controls",
            "_model_module_version": "1.5.0",
            "_model_name": "ProgressStyleModel",
            "_view_count": null,
            "_view_module": "@jupyter-widgets/base",
            "_view_module_version": "1.2.0",
            "_view_name": "StyleView",
            "bar_color": null,
            "description_width": ""
          }
        },
        "58e749db97ad4d7298e61e9ab6625b3f": {
          "model_module": "@jupyter-widgets/base",
          "model_name": "LayoutModel",
          "model_module_version": "1.2.0",
          "state": {
            "_model_module": "@jupyter-widgets/base",
            "_model_module_version": "1.2.0",
            "_model_name": "LayoutModel",
            "_view_count": null,
            "_view_module": "@jupyter-widgets/base",
            "_view_module_version": "1.2.0",
            "_view_name": "LayoutView",
            "align_content": null,
            "align_items": null,
            "align_self": null,
            "border": null,
            "bottom": null,
            "display": null,
            "flex": null,
            "flex_flow": null,
            "grid_area": null,
            "grid_auto_columns": null,
            "grid_auto_flow": null,
            "grid_auto_rows": null,
            "grid_column": null,
            "grid_gap": null,
            "grid_row": null,
            "grid_template_areas": null,
            "grid_template_columns": null,
            "grid_template_rows": null,
            "height": null,
            "justify_content": null,
            "justify_items": null,
            "left": null,
            "margin": null,
            "max_height": null,
            "max_width": null,
            "min_height": null,
            "min_width": null,
            "object_fit": null,
            "object_position": null,
            "order": null,
            "overflow": null,
            "overflow_x": null,
            "overflow_y": null,
            "padding": null,
            "right": null,
            "top": null,
            "visibility": null,
            "width": null
          }
        },
        "cd04d10c53404c72883a5a1e74dd94ad": {
          "model_module": "@jupyter-widgets/controls",
          "model_name": "DescriptionStyleModel",
          "model_module_version": "1.5.0",
          "state": {
            "_model_module": "@jupyter-widgets/controls",
            "_model_module_version": "1.5.0",
            "_model_name": "DescriptionStyleModel",
            "_view_count": null,
            "_view_module": "@jupyter-widgets/base",
            "_view_module_version": "1.2.0",
            "_view_name": "StyleView",
            "description_width": ""
          }
        },
        "0a4b42a679ae410c8f7e3f965133a040": {
          "model_module": "@jupyter-widgets/controls",
          "model_name": "HBoxModel",
          "model_module_version": "1.5.0",
          "state": {
            "_dom_classes": [],
            "_model_module": "@jupyter-widgets/controls",
            "_model_module_version": "1.5.0",
            "_model_name": "HBoxModel",
            "_view_count": null,
            "_view_module": "@jupyter-widgets/controls",
            "_view_module_version": "1.5.0",
            "_view_name": "HBoxView",
            "box_style": "",
            "children": [
              "IPY_MODEL_c3fcec90cd514e6082300b03f52c6de5",
              "IPY_MODEL_b279d924fd424b8bb5dfae4078b544f6",
              "IPY_MODEL_94027cfe406245769ee9cd5fb3106439"
            ],
            "layout": "IPY_MODEL_601df0b73729402e978032cf9e19c14e"
          }
        },
        "c3fcec90cd514e6082300b03f52c6de5": {
          "model_module": "@jupyter-widgets/controls",
          "model_name": "HTMLModel",
          "model_module_version": "1.5.0",
          "state": {
            "_dom_classes": [],
            "_model_module": "@jupyter-widgets/controls",
            "_model_module_version": "1.5.0",
            "_model_name": "HTMLModel",
            "_view_count": null,
            "_view_module": "@jupyter-widgets/controls",
            "_view_module_version": "1.5.0",
            "_view_name": "HTMLView",
            "description": "",
            "description_tooltip": null,
            "layout": "IPY_MODEL_3a437a4be7ef4cbaba319d872bea4fa5",
            "placeholder": "​",
            "style": "IPY_MODEL_09e3ea98e5664588adcb87f2ce4e1e37",
            "value": "Downloading (…)lve/main/config.json: 100%"
          }
        },
        "b279d924fd424b8bb5dfae4078b544f6": {
          "model_module": "@jupyter-widgets/controls",
          "model_name": "FloatProgressModel",
          "model_module_version": "1.5.0",
          "state": {
            "_dom_classes": [],
            "_model_module": "@jupyter-widgets/controls",
            "_model_module_version": "1.5.0",
            "_model_name": "FloatProgressModel",
            "_view_count": null,
            "_view_module": "@jupyter-widgets/controls",
            "_view_module_version": "1.5.0",
            "_view_name": "ProgressView",
            "bar_style": "success",
            "description": "",
            "description_tooltip": null,
            "layout": "IPY_MODEL_a41a9b8a4af9411fa123217e8e20b4de",
            "max": 384,
            "min": 0,
            "orientation": "horizontal",
            "style": "IPY_MODEL_15f906f5d7dc4e11809e623b3d4b25b6",
            "value": 384
          }
        },
        "94027cfe406245769ee9cd5fb3106439": {
          "model_module": "@jupyter-widgets/controls",
          "model_name": "HTMLModel",
          "model_module_version": "1.5.0",
          "state": {
            "_dom_classes": [],
            "_model_module": "@jupyter-widgets/controls",
            "_model_module_version": "1.5.0",
            "_model_name": "HTMLModel",
            "_view_count": null,
            "_view_module": "@jupyter-widgets/controls",
            "_view_module_version": "1.5.0",
            "_view_name": "HTMLView",
            "description": "",
            "description_tooltip": null,
            "layout": "IPY_MODEL_b043ac1bb60146a18e677cc1d67787b1",
            "placeholder": "​",
            "style": "IPY_MODEL_53cc3e6b24694cc1bf5bc5c3d4757be2",
            "value": " 384/384 [00:00&lt;00:00, 23.5kB/s]"
          }
        },
        "601df0b73729402e978032cf9e19c14e": {
          "model_module": "@jupyter-widgets/base",
          "model_name": "LayoutModel",
          "model_module_version": "1.2.0",
          "state": {
            "_model_module": "@jupyter-widgets/base",
            "_model_module_version": "1.2.0",
            "_model_name": "LayoutModel",
            "_view_count": null,
            "_view_module": "@jupyter-widgets/base",
            "_view_module_version": "1.2.0",
            "_view_name": "LayoutView",
            "align_content": null,
            "align_items": null,
            "align_self": null,
            "border": null,
            "bottom": null,
            "display": null,
            "flex": null,
            "flex_flow": null,
            "grid_area": null,
            "grid_auto_columns": null,
            "grid_auto_flow": null,
            "grid_auto_rows": null,
            "grid_column": null,
            "grid_gap": null,
            "grid_row": null,
            "grid_template_areas": null,
            "grid_template_columns": null,
            "grid_template_rows": null,
            "height": null,
            "justify_content": null,
            "justify_items": null,
            "left": null,
            "margin": null,
            "max_height": null,
            "max_width": null,
            "min_height": null,
            "min_width": null,
            "object_fit": null,
            "object_position": null,
            "order": null,
            "overflow": null,
            "overflow_x": null,
            "overflow_y": null,
            "padding": null,
            "right": null,
            "top": null,
            "visibility": null,
            "width": null
          }
        },
        "3a437a4be7ef4cbaba319d872bea4fa5": {
          "model_module": "@jupyter-widgets/base",
          "model_name": "LayoutModel",
          "model_module_version": "1.2.0",
          "state": {
            "_model_module": "@jupyter-widgets/base",
            "_model_module_version": "1.2.0",
            "_model_name": "LayoutModel",
            "_view_count": null,
            "_view_module": "@jupyter-widgets/base",
            "_view_module_version": "1.2.0",
            "_view_name": "LayoutView",
            "align_content": null,
            "align_items": null,
            "align_self": null,
            "border": null,
            "bottom": null,
            "display": null,
            "flex": null,
            "flex_flow": null,
            "grid_area": null,
            "grid_auto_columns": null,
            "grid_auto_flow": null,
            "grid_auto_rows": null,
            "grid_column": null,
            "grid_gap": null,
            "grid_row": null,
            "grid_template_areas": null,
            "grid_template_columns": null,
            "grid_template_rows": null,
            "height": null,
            "justify_content": null,
            "justify_items": null,
            "left": null,
            "margin": null,
            "max_height": null,
            "max_width": null,
            "min_height": null,
            "min_width": null,
            "object_fit": null,
            "object_position": null,
            "order": null,
            "overflow": null,
            "overflow_x": null,
            "overflow_y": null,
            "padding": null,
            "right": null,
            "top": null,
            "visibility": null,
            "width": null
          }
        },
        "09e3ea98e5664588adcb87f2ce4e1e37": {
          "model_module": "@jupyter-widgets/controls",
          "model_name": "DescriptionStyleModel",
          "model_module_version": "1.5.0",
          "state": {
            "_model_module": "@jupyter-widgets/controls",
            "_model_module_version": "1.5.0",
            "_model_name": "DescriptionStyleModel",
            "_view_count": null,
            "_view_module": "@jupyter-widgets/base",
            "_view_module_version": "1.2.0",
            "_view_name": "StyleView",
            "description_width": ""
          }
        },
        "a41a9b8a4af9411fa123217e8e20b4de": {
          "model_module": "@jupyter-widgets/base",
          "model_name": "LayoutModel",
          "model_module_version": "1.2.0",
          "state": {
            "_model_module": "@jupyter-widgets/base",
            "_model_module_version": "1.2.0",
            "_model_name": "LayoutModel",
            "_view_count": null,
            "_view_module": "@jupyter-widgets/base",
            "_view_module_version": "1.2.0",
            "_view_name": "LayoutView",
            "align_content": null,
            "align_items": null,
            "align_self": null,
            "border": null,
            "bottom": null,
            "display": null,
            "flex": null,
            "flex_flow": null,
            "grid_area": null,
            "grid_auto_columns": null,
            "grid_auto_flow": null,
            "grid_auto_rows": null,
            "grid_column": null,
            "grid_gap": null,
            "grid_row": null,
            "grid_template_areas": null,
            "grid_template_columns": null,
            "grid_template_rows": null,
            "height": null,
            "justify_content": null,
            "justify_items": null,
            "left": null,
            "margin": null,
            "max_height": null,
            "max_width": null,
            "min_height": null,
            "min_width": null,
            "object_fit": null,
            "object_position": null,
            "order": null,
            "overflow": null,
            "overflow_x": null,
            "overflow_y": null,
            "padding": null,
            "right": null,
            "top": null,
            "visibility": null,
            "width": null
          }
        },
        "15f906f5d7dc4e11809e623b3d4b25b6": {
          "model_module": "@jupyter-widgets/controls",
          "model_name": "ProgressStyleModel",
          "model_module_version": "1.5.0",
          "state": {
            "_model_module": "@jupyter-widgets/controls",
            "_model_module_version": "1.5.0",
            "_model_name": "ProgressStyleModel",
            "_view_count": null,
            "_view_module": "@jupyter-widgets/base",
            "_view_module_version": "1.2.0",
            "_view_name": "StyleView",
            "bar_color": null,
            "description_width": ""
          }
        },
        "b043ac1bb60146a18e677cc1d67787b1": {
          "model_module": "@jupyter-widgets/base",
          "model_name": "LayoutModel",
          "model_module_version": "1.2.0",
          "state": {
            "_model_module": "@jupyter-widgets/base",
            "_model_module_version": "1.2.0",
            "_model_name": "LayoutModel",
            "_view_count": null,
            "_view_module": "@jupyter-widgets/base",
            "_view_module_version": "1.2.0",
            "_view_name": "LayoutView",
            "align_content": null,
            "align_items": null,
            "align_self": null,
            "border": null,
            "bottom": null,
            "display": null,
            "flex": null,
            "flex_flow": null,
            "grid_area": null,
            "grid_auto_columns": null,
            "grid_auto_flow": null,
            "grid_auto_rows": null,
            "grid_column": null,
            "grid_gap": null,
            "grid_row": null,
            "grid_template_areas": null,
            "grid_template_columns": null,
            "grid_template_rows": null,
            "height": null,
            "justify_content": null,
            "justify_items": null,
            "left": null,
            "margin": null,
            "max_height": null,
            "max_width": null,
            "min_height": null,
            "min_width": null,
            "object_fit": null,
            "object_position": null,
            "order": null,
            "overflow": null,
            "overflow_x": null,
            "overflow_y": null,
            "padding": null,
            "right": null,
            "top": null,
            "visibility": null,
            "width": null
          }
        },
        "53cc3e6b24694cc1bf5bc5c3d4757be2": {
          "model_module": "@jupyter-widgets/controls",
          "model_name": "DescriptionStyleModel",
          "model_module_version": "1.5.0",
          "state": {
            "_model_module": "@jupyter-widgets/controls",
            "_model_module_version": "1.5.0",
            "_model_name": "DescriptionStyleModel",
            "_view_count": null,
            "_view_module": "@jupyter-widgets/base",
            "_view_module_version": "1.2.0",
            "_view_name": "StyleView",
            "description_width": ""
          }
        },
        "117c9f75ddc2455dbfb722ebf14f02f9": {
          "model_module": "@jupyter-widgets/controls",
          "model_name": "HBoxModel",
          "model_module_version": "1.5.0",
          "state": {
            "_dom_classes": [],
            "_model_module": "@jupyter-widgets/controls",
            "_model_module_version": "1.5.0",
            "_model_name": "HBoxModel",
            "_view_count": null,
            "_view_module": "@jupyter-widgets/controls",
            "_view_module_version": "1.5.0",
            "_view_name": "HBoxView",
            "box_style": "",
            "children": [
              "IPY_MODEL_5951b7be838143b39968c58d3366b32b",
              "IPY_MODEL_798bb0368a434dc9ab38b0a2c4ceff99",
              "IPY_MODEL_3be1248a3fd44211a9a9ac1224ac9e0a"
            ],
            "layout": "IPY_MODEL_d6602450459547d1b0a367fd2a051363"
          }
        },
        "5951b7be838143b39968c58d3366b32b": {
          "model_module": "@jupyter-widgets/controls",
          "model_name": "HTMLModel",
          "model_module_version": "1.5.0",
          "state": {
            "_dom_classes": [],
            "_model_module": "@jupyter-widgets/controls",
            "_model_module_version": "1.5.0",
            "_model_name": "HTMLModel",
            "_view_count": null,
            "_view_module": "@jupyter-widgets/controls",
            "_view_module_version": "1.5.0",
            "_view_name": "HTMLView",
            "description": "",
            "description_tooltip": null,
            "layout": "IPY_MODEL_5fbf4dcd201146729351d3b5dfb96705",
            "placeholder": "​",
            "style": "IPY_MODEL_0ec382a91e184c689fa6d6476e892af7",
            "value": "Downloading (…)solve/main/vocab.txt: 100%"
          }
        },
        "798bb0368a434dc9ab38b0a2c4ceff99": {
          "model_module": "@jupyter-widgets/controls",
          "model_name": "FloatProgressModel",
          "model_module_version": "1.5.0",
          "state": {
            "_dom_classes": [],
            "_model_module": "@jupyter-widgets/controls",
            "_model_module_version": "1.5.0",
            "_model_name": "FloatProgressModel",
            "_view_count": null,
            "_view_module": "@jupyter-widgets/controls",
            "_view_module_version": "1.5.0",
            "_view_name": "ProgressView",
            "bar_style": "success",
            "description": "",
            "description_tooltip": null,
            "layout": "IPY_MODEL_17067f884d1e454aa563057051186b5b",
            "max": 719993,
            "min": 0,
            "orientation": "horizontal",
            "style": "IPY_MODEL_9cba748ac0184f3298bb93f3fd3f9533",
            "value": 719993
          }
        },
        "3be1248a3fd44211a9a9ac1224ac9e0a": {
          "model_module": "@jupyter-widgets/controls",
          "model_name": "HTMLModel",
          "model_module_version": "1.5.0",
          "state": {
            "_dom_classes": [],
            "_model_module": "@jupyter-widgets/controls",
            "_model_module_version": "1.5.0",
            "_model_name": "HTMLModel",
            "_view_count": null,
            "_view_module": "@jupyter-widgets/controls",
            "_view_module_version": "1.5.0",
            "_view_name": "HTMLView",
            "description": "",
            "description_tooltip": null,
            "layout": "IPY_MODEL_0829beaee44f4508979ade6f65794f7f",
            "placeholder": "​",
            "style": "IPY_MODEL_55094ec4c092475bb417090733ca9218",
            "value": " 720k/720k [00:00&lt;00:00, 7.73MB/s]"
          }
        },
        "d6602450459547d1b0a367fd2a051363": {
          "model_module": "@jupyter-widgets/base",
          "model_name": "LayoutModel",
          "model_module_version": "1.2.0",
          "state": {
            "_model_module": "@jupyter-widgets/base",
            "_model_module_version": "1.2.0",
            "_model_name": "LayoutModel",
            "_view_count": null,
            "_view_module": "@jupyter-widgets/base",
            "_view_module_version": "1.2.0",
            "_view_name": "LayoutView",
            "align_content": null,
            "align_items": null,
            "align_self": null,
            "border": null,
            "bottom": null,
            "display": null,
            "flex": null,
            "flex_flow": null,
            "grid_area": null,
            "grid_auto_columns": null,
            "grid_auto_flow": null,
            "grid_auto_rows": null,
            "grid_column": null,
            "grid_gap": null,
            "grid_row": null,
            "grid_template_areas": null,
            "grid_template_columns": null,
            "grid_template_rows": null,
            "height": null,
            "justify_content": null,
            "justify_items": null,
            "left": null,
            "margin": null,
            "max_height": null,
            "max_width": null,
            "min_height": null,
            "min_width": null,
            "object_fit": null,
            "object_position": null,
            "order": null,
            "overflow": null,
            "overflow_x": null,
            "overflow_y": null,
            "padding": null,
            "right": null,
            "top": null,
            "visibility": null,
            "width": null
          }
        },
        "5fbf4dcd201146729351d3b5dfb96705": {
          "model_module": "@jupyter-widgets/base",
          "model_name": "LayoutModel",
          "model_module_version": "1.2.0",
          "state": {
            "_model_module": "@jupyter-widgets/base",
            "_model_module_version": "1.2.0",
            "_model_name": "LayoutModel",
            "_view_count": null,
            "_view_module": "@jupyter-widgets/base",
            "_view_module_version": "1.2.0",
            "_view_name": "LayoutView",
            "align_content": null,
            "align_items": null,
            "align_self": null,
            "border": null,
            "bottom": null,
            "display": null,
            "flex": null,
            "flex_flow": null,
            "grid_area": null,
            "grid_auto_columns": null,
            "grid_auto_flow": null,
            "grid_auto_rows": null,
            "grid_column": null,
            "grid_gap": null,
            "grid_row": null,
            "grid_template_areas": null,
            "grid_template_columns": null,
            "grid_template_rows": null,
            "height": null,
            "justify_content": null,
            "justify_items": null,
            "left": null,
            "margin": null,
            "max_height": null,
            "max_width": null,
            "min_height": null,
            "min_width": null,
            "object_fit": null,
            "object_position": null,
            "order": null,
            "overflow": null,
            "overflow_x": null,
            "overflow_y": null,
            "padding": null,
            "right": null,
            "top": null,
            "visibility": null,
            "width": null
          }
        },
        "0ec382a91e184c689fa6d6476e892af7": {
          "model_module": "@jupyter-widgets/controls",
          "model_name": "DescriptionStyleModel",
          "model_module_version": "1.5.0",
          "state": {
            "_model_module": "@jupyter-widgets/controls",
            "_model_module_version": "1.5.0",
            "_model_name": "DescriptionStyleModel",
            "_view_count": null,
            "_view_module": "@jupyter-widgets/base",
            "_view_module_version": "1.2.0",
            "_view_name": "StyleView",
            "description_width": ""
          }
        },
        "17067f884d1e454aa563057051186b5b": {
          "model_module": "@jupyter-widgets/base",
          "model_name": "LayoutModel",
          "model_module_version": "1.2.0",
          "state": {
            "_model_module": "@jupyter-widgets/base",
            "_model_module_version": "1.2.0",
            "_model_name": "LayoutModel",
            "_view_count": null,
            "_view_module": "@jupyter-widgets/base",
            "_view_module_version": "1.2.0",
            "_view_name": "LayoutView",
            "align_content": null,
            "align_items": null,
            "align_self": null,
            "border": null,
            "bottom": null,
            "display": null,
            "flex": null,
            "flex_flow": null,
            "grid_area": null,
            "grid_auto_columns": null,
            "grid_auto_flow": null,
            "grid_auto_rows": null,
            "grid_column": null,
            "grid_gap": null,
            "grid_row": null,
            "grid_template_areas": null,
            "grid_template_columns": null,
            "grid_template_rows": null,
            "height": null,
            "justify_content": null,
            "justify_items": null,
            "left": null,
            "margin": null,
            "max_height": null,
            "max_width": null,
            "min_height": null,
            "min_width": null,
            "object_fit": null,
            "object_position": null,
            "order": null,
            "overflow": null,
            "overflow_x": null,
            "overflow_y": null,
            "padding": null,
            "right": null,
            "top": null,
            "visibility": null,
            "width": null
          }
        },
        "9cba748ac0184f3298bb93f3fd3f9533": {
          "model_module": "@jupyter-widgets/controls",
          "model_name": "ProgressStyleModel",
          "model_module_version": "1.5.0",
          "state": {
            "_model_module": "@jupyter-widgets/controls",
            "_model_module_version": "1.5.0",
            "_model_name": "ProgressStyleModel",
            "_view_count": null,
            "_view_module": "@jupyter-widgets/base",
            "_view_module_version": "1.2.0",
            "_view_name": "StyleView",
            "bar_color": null,
            "description_width": ""
          }
        },
        "0829beaee44f4508979ade6f65794f7f": {
          "model_module": "@jupyter-widgets/base",
          "model_name": "LayoutModel",
          "model_module_version": "1.2.0",
          "state": {
            "_model_module": "@jupyter-widgets/base",
            "_model_module_version": "1.2.0",
            "_model_name": "LayoutModel",
            "_view_count": null,
            "_view_module": "@jupyter-widgets/base",
            "_view_module_version": "1.2.0",
            "_view_name": "LayoutView",
            "align_content": null,
            "align_items": null,
            "align_self": null,
            "border": null,
            "bottom": null,
            "display": null,
            "flex": null,
            "flex_flow": null,
            "grid_area": null,
            "grid_auto_columns": null,
            "grid_auto_flow": null,
            "grid_auto_rows": null,
            "grid_column": null,
            "grid_gap": null,
            "grid_row": null,
            "grid_template_areas": null,
            "grid_template_columns": null,
            "grid_template_rows": null,
            "height": null,
            "justify_content": null,
            "justify_items": null,
            "left": null,
            "margin": null,
            "max_height": null,
            "max_width": null,
            "min_height": null,
            "min_width": null,
            "object_fit": null,
            "object_position": null,
            "order": null,
            "overflow": null,
            "overflow_x": null,
            "overflow_y": null,
            "padding": null,
            "right": null,
            "top": null,
            "visibility": null,
            "width": null
          }
        },
        "55094ec4c092475bb417090733ca9218": {
          "model_module": "@jupyter-widgets/controls",
          "model_name": "DescriptionStyleModel",
          "model_module_version": "1.5.0",
          "state": {
            "_model_module": "@jupyter-widgets/controls",
            "_model_module_version": "1.5.0",
            "_model_name": "DescriptionStyleModel",
            "_view_count": null,
            "_view_module": "@jupyter-widgets/base",
            "_view_module_version": "1.2.0",
            "_view_name": "StyleView",
            "description_width": ""
          }
        },
        "243391e0754b4e97b135b19ab682d2b0": {
          "model_module": "@jupyter-widgets/controls",
          "model_name": "HBoxModel",
          "model_module_version": "1.5.0",
          "state": {
            "_dom_classes": [],
            "_model_module": "@jupyter-widgets/controls",
            "_model_module_version": "1.5.0",
            "_model_name": "HBoxModel",
            "_view_count": null,
            "_view_module": "@jupyter-widgets/controls",
            "_view_module_version": "1.5.0",
            "_view_name": "HBoxView",
            "box_style": "",
            "children": [
              "IPY_MODEL_86699cf16ad84739b22bc0f2e5566788",
              "IPY_MODEL_ba031414ac694a018df97522bc0868d2",
              "IPY_MODEL_a0a6678cfc124d1196d238b83bbc184a"
            ],
            "layout": "IPY_MODEL_de388b0209d74371b9b6e1282f96df34"
          }
        },
        "86699cf16ad84739b22bc0f2e5566788": {
          "model_module": "@jupyter-widgets/controls",
          "model_name": "HTMLModel",
          "model_module_version": "1.5.0",
          "state": {
            "_dom_classes": [],
            "_model_module": "@jupyter-widgets/controls",
            "_model_module_version": "1.5.0",
            "_model_name": "HTMLModel",
            "_view_count": null,
            "_view_module": "@jupyter-widgets/controls",
            "_view_module_version": "1.5.0",
            "_view_name": "HTMLView",
            "description": "",
            "description_tooltip": null,
            "layout": "IPY_MODEL_c5834f0b8f7d424f8be19c7b9d2363b6",
            "placeholder": "​",
            "style": "IPY_MODEL_484bc040ccb446c59c8f38baf6c65e4f",
            "value": "Downloading (…)/main/tokenizer.json: 100%"
          }
        },
        "ba031414ac694a018df97522bc0868d2": {
          "model_module": "@jupyter-widgets/controls",
          "model_name": "FloatProgressModel",
          "model_module_version": "1.5.0",
          "state": {
            "_dom_classes": [],
            "_model_module": "@jupyter-widgets/controls",
            "_model_module_version": "1.5.0",
            "_model_name": "FloatProgressModel",
            "_view_count": null,
            "_view_module": "@jupyter-widgets/controls",
            "_view_module_version": "1.5.0",
            "_view_name": "ProgressView",
            "bar_style": "success",
            "description": "",
            "description_tooltip": null,
            "layout": "IPY_MODEL_3d1e00d685da4daab4be5182c156ca90",
            "max": 2306039,
            "min": 0,
            "orientation": "horizontal",
            "style": "IPY_MODEL_10c99ba66229499a993415c471ff66e5",
            "value": 2306039
          }
        },
        "a0a6678cfc124d1196d238b83bbc184a": {
          "model_module": "@jupyter-widgets/controls",
          "model_name": "HTMLModel",
          "model_module_version": "1.5.0",
          "state": {
            "_dom_classes": [],
            "_model_module": "@jupyter-widgets/controls",
            "_model_module_version": "1.5.0",
            "_model_name": "HTMLModel",
            "_view_count": null,
            "_view_module": "@jupyter-widgets/controls",
            "_view_module_version": "1.5.0",
            "_view_name": "HTMLView",
            "description": "",
            "description_tooltip": null,
            "layout": "IPY_MODEL_0e8b3569db464088abf924458fb998f1",
            "placeholder": "​",
            "style": "IPY_MODEL_6ea1bc684cf14634a36942eefb38e2b7",
            "value": " 2.31M/2.31M [00:00&lt;00:00, 48.4MB/s]"
          }
        },
        "de388b0209d74371b9b6e1282f96df34": {
          "model_module": "@jupyter-widgets/base",
          "model_name": "LayoutModel",
          "model_module_version": "1.2.0",
          "state": {
            "_model_module": "@jupyter-widgets/base",
            "_model_module_version": "1.2.0",
            "_model_name": "LayoutModel",
            "_view_count": null,
            "_view_module": "@jupyter-widgets/base",
            "_view_module_version": "1.2.0",
            "_view_name": "LayoutView",
            "align_content": null,
            "align_items": null,
            "align_self": null,
            "border": null,
            "bottom": null,
            "display": null,
            "flex": null,
            "flex_flow": null,
            "grid_area": null,
            "grid_auto_columns": null,
            "grid_auto_flow": null,
            "grid_auto_rows": null,
            "grid_column": null,
            "grid_gap": null,
            "grid_row": null,
            "grid_template_areas": null,
            "grid_template_columns": null,
            "grid_template_rows": null,
            "height": null,
            "justify_content": null,
            "justify_items": null,
            "left": null,
            "margin": null,
            "max_height": null,
            "max_width": null,
            "min_height": null,
            "min_width": null,
            "object_fit": null,
            "object_position": null,
            "order": null,
            "overflow": null,
            "overflow_x": null,
            "overflow_y": null,
            "padding": null,
            "right": null,
            "top": null,
            "visibility": null,
            "width": null
          }
        },
        "c5834f0b8f7d424f8be19c7b9d2363b6": {
          "model_module": "@jupyter-widgets/base",
          "model_name": "LayoutModel",
          "model_module_version": "1.2.0",
          "state": {
            "_model_module": "@jupyter-widgets/base",
            "_model_module_version": "1.2.0",
            "_model_name": "LayoutModel",
            "_view_count": null,
            "_view_module": "@jupyter-widgets/base",
            "_view_module_version": "1.2.0",
            "_view_name": "LayoutView",
            "align_content": null,
            "align_items": null,
            "align_self": null,
            "border": null,
            "bottom": null,
            "display": null,
            "flex": null,
            "flex_flow": null,
            "grid_area": null,
            "grid_auto_columns": null,
            "grid_auto_flow": null,
            "grid_auto_rows": null,
            "grid_column": null,
            "grid_gap": null,
            "grid_row": null,
            "grid_template_areas": null,
            "grid_template_columns": null,
            "grid_template_rows": null,
            "height": null,
            "justify_content": null,
            "justify_items": null,
            "left": null,
            "margin": null,
            "max_height": null,
            "max_width": null,
            "min_height": null,
            "min_width": null,
            "object_fit": null,
            "object_position": null,
            "order": null,
            "overflow": null,
            "overflow_x": null,
            "overflow_y": null,
            "padding": null,
            "right": null,
            "top": null,
            "visibility": null,
            "width": null
          }
        },
        "484bc040ccb446c59c8f38baf6c65e4f": {
          "model_module": "@jupyter-widgets/controls",
          "model_name": "DescriptionStyleModel",
          "model_module_version": "1.5.0",
          "state": {
            "_model_module": "@jupyter-widgets/controls",
            "_model_module_version": "1.5.0",
            "_model_name": "DescriptionStyleModel",
            "_view_count": null,
            "_view_module": "@jupyter-widgets/base",
            "_view_module_version": "1.2.0",
            "_view_name": "StyleView",
            "description_width": ""
          }
        },
        "3d1e00d685da4daab4be5182c156ca90": {
          "model_module": "@jupyter-widgets/base",
          "model_name": "LayoutModel",
          "model_module_version": "1.2.0",
          "state": {
            "_model_module": "@jupyter-widgets/base",
            "_model_module_version": "1.2.0",
            "_model_name": "LayoutModel",
            "_view_count": null,
            "_view_module": "@jupyter-widgets/base",
            "_view_module_version": "1.2.0",
            "_view_name": "LayoutView",
            "align_content": null,
            "align_items": null,
            "align_self": null,
            "border": null,
            "bottom": null,
            "display": null,
            "flex": null,
            "flex_flow": null,
            "grid_area": null,
            "grid_auto_columns": null,
            "grid_auto_flow": null,
            "grid_auto_rows": null,
            "grid_column": null,
            "grid_gap": null,
            "grid_row": null,
            "grid_template_areas": null,
            "grid_template_columns": null,
            "grid_template_rows": null,
            "height": null,
            "justify_content": null,
            "justify_items": null,
            "left": null,
            "margin": null,
            "max_height": null,
            "max_width": null,
            "min_height": null,
            "min_width": null,
            "object_fit": null,
            "object_position": null,
            "order": null,
            "overflow": null,
            "overflow_x": null,
            "overflow_y": null,
            "padding": null,
            "right": null,
            "top": null,
            "visibility": null,
            "width": null
          }
        },
        "10c99ba66229499a993415c471ff66e5": {
          "model_module": "@jupyter-widgets/controls",
          "model_name": "ProgressStyleModel",
          "model_module_version": "1.5.0",
          "state": {
            "_model_module": "@jupyter-widgets/controls",
            "_model_module_version": "1.5.0",
            "_model_name": "ProgressStyleModel",
            "_view_count": null,
            "_view_module": "@jupyter-widgets/base",
            "_view_module_version": "1.2.0",
            "_view_name": "StyleView",
            "bar_color": null,
            "description_width": ""
          }
        },
        "0e8b3569db464088abf924458fb998f1": {
          "model_module": "@jupyter-widgets/base",
          "model_name": "LayoutModel",
          "model_module_version": "1.2.0",
          "state": {
            "_model_module": "@jupyter-widgets/base",
            "_model_module_version": "1.2.0",
            "_model_name": "LayoutModel",
            "_view_count": null,
            "_view_module": "@jupyter-widgets/base",
            "_view_module_version": "1.2.0",
            "_view_name": "LayoutView",
            "align_content": null,
            "align_items": null,
            "align_self": null,
            "border": null,
            "bottom": null,
            "display": null,
            "flex": null,
            "flex_flow": null,
            "grid_area": null,
            "grid_auto_columns": null,
            "grid_auto_flow": null,
            "grid_auto_rows": null,
            "grid_column": null,
            "grid_gap": null,
            "grid_row": null,
            "grid_template_areas": null,
            "grid_template_columns": null,
            "grid_template_rows": null,
            "height": null,
            "justify_content": null,
            "justify_items": null,
            "left": null,
            "margin": null,
            "max_height": null,
            "max_width": null,
            "min_height": null,
            "min_width": null,
            "object_fit": null,
            "object_position": null,
            "order": null,
            "overflow": null,
            "overflow_x": null,
            "overflow_y": null,
            "padding": null,
            "right": null,
            "top": null,
            "visibility": null,
            "width": null
          }
        },
        "6ea1bc684cf14634a36942eefb38e2b7": {
          "model_module": "@jupyter-widgets/controls",
          "model_name": "DescriptionStyleModel",
          "model_module_version": "1.5.0",
          "state": {
            "_model_module": "@jupyter-widgets/controls",
            "_model_module_version": "1.5.0",
            "_model_name": "DescriptionStyleModel",
            "_view_count": null,
            "_view_module": "@jupyter-widgets/base",
            "_view_module_version": "1.2.0",
            "_view_name": "StyleView",
            "description_width": ""
          }
        },
        "79f9ba3d7514454d88b8b5f2d8f1c9d9": {
          "model_module": "@jupyter-widgets/controls",
          "model_name": "HBoxModel",
          "model_module_version": "1.5.0",
          "state": {
            "_dom_classes": [],
            "_model_module": "@jupyter-widgets/controls",
            "_model_module_version": "1.5.0",
            "_model_name": "HBoxModel",
            "_view_count": null,
            "_view_module": "@jupyter-widgets/controls",
            "_view_module_version": "1.5.0",
            "_view_name": "HBoxView",
            "box_style": "",
            "children": [
              "IPY_MODEL_a25919b2fafc414bb0f00f8df458469c",
              "IPY_MODEL_bc97609ec56846829011af473753daf3",
              "IPY_MODEL_cf8e80f193424d7ab6b1a6571e276f8c"
            ],
            "layout": "IPY_MODEL_98ef0591f6ad4740a818ec21e5c0058e"
          }
        },
        "a25919b2fafc414bb0f00f8df458469c": {
          "model_module": "@jupyter-widgets/controls",
          "model_name": "HTMLModel",
          "model_module_version": "1.5.0",
          "state": {
            "_dom_classes": [],
            "_model_module": "@jupyter-widgets/controls",
            "_model_module_version": "1.5.0",
            "_model_name": "HTMLModel",
            "_view_count": null,
            "_view_module": "@jupyter-widgets/controls",
            "_view_module_version": "1.5.0",
            "_view_name": "HTMLView",
            "description": "",
            "description_tooltip": null,
            "layout": "IPY_MODEL_9a9232f8096f44d6bc478d3aa8e2064e",
            "placeholder": "​",
            "style": "IPY_MODEL_e61178b51c4445958e822ccbf01943e3",
            "value": "Downloading (…)cial_tokens_map.json: 100%"
          }
        },
        "bc97609ec56846829011af473753daf3": {
          "model_module": "@jupyter-widgets/controls",
          "model_name": "FloatProgressModel",
          "model_module_version": "1.5.0",
          "state": {
            "_dom_classes": [],
            "_model_module": "@jupyter-widgets/controls",
            "_model_module_version": "1.5.0",
            "_model_name": "FloatProgressModel",
            "_view_count": null,
            "_view_module": "@jupyter-widgets/controls",
            "_view_module_version": "1.5.0",
            "_view_name": "ProgressView",
            "bar_style": "success",
            "description": "",
            "description_tooltip": null,
            "layout": "IPY_MODEL_058d8c0805be446b8a8e2a6dca5206e0",
            "max": 112,
            "min": 0,
            "orientation": "horizontal",
            "style": "IPY_MODEL_04f328fde4944f1d93025c60aa39bbce",
            "value": 112
          }
        },
        "cf8e80f193424d7ab6b1a6571e276f8c": {
          "model_module": "@jupyter-widgets/controls",
          "model_name": "HTMLModel",
          "model_module_version": "1.5.0",
          "state": {
            "_dom_classes": [],
            "_model_module": "@jupyter-widgets/controls",
            "_model_module_version": "1.5.0",
            "_model_name": "HTMLModel",
            "_view_count": null,
            "_view_module": "@jupyter-widgets/controls",
            "_view_module_version": "1.5.0",
            "_view_name": "HTMLView",
            "description": "",
            "description_tooltip": null,
            "layout": "IPY_MODEL_5cdcd81ab86f4fceb754ef654bbb7704",
            "placeholder": "​",
            "style": "IPY_MODEL_016ed6999e814ff5a179089e2a8526a2",
            "value": " 112/112 [00:00&lt;00:00, 9.19kB/s]"
          }
        },
        "98ef0591f6ad4740a818ec21e5c0058e": {
          "model_module": "@jupyter-widgets/base",
          "model_name": "LayoutModel",
          "model_module_version": "1.2.0",
          "state": {
            "_model_module": "@jupyter-widgets/base",
            "_model_module_version": "1.2.0",
            "_model_name": "LayoutModel",
            "_view_count": null,
            "_view_module": "@jupyter-widgets/base",
            "_view_module_version": "1.2.0",
            "_view_name": "LayoutView",
            "align_content": null,
            "align_items": null,
            "align_self": null,
            "border": null,
            "bottom": null,
            "display": null,
            "flex": null,
            "flex_flow": null,
            "grid_area": null,
            "grid_auto_columns": null,
            "grid_auto_flow": null,
            "grid_auto_rows": null,
            "grid_column": null,
            "grid_gap": null,
            "grid_row": null,
            "grid_template_areas": null,
            "grid_template_columns": null,
            "grid_template_rows": null,
            "height": null,
            "justify_content": null,
            "justify_items": null,
            "left": null,
            "margin": null,
            "max_height": null,
            "max_width": null,
            "min_height": null,
            "min_width": null,
            "object_fit": null,
            "object_position": null,
            "order": null,
            "overflow": null,
            "overflow_x": null,
            "overflow_y": null,
            "padding": null,
            "right": null,
            "top": null,
            "visibility": null,
            "width": null
          }
        },
        "9a9232f8096f44d6bc478d3aa8e2064e": {
          "model_module": "@jupyter-widgets/base",
          "model_name": "LayoutModel",
          "model_module_version": "1.2.0",
          "state": {
            "_model_module": "@jupyter-widgets/base",
            "_model_module_version": "1.2.0",
            "_model_name": "LayoutModel",
            "_view_count": null,
            "_view_module": "@jupyter-widgets/base",
            "_view_module_version": "1.2.0",
            "_view_name": "LayoutView",
            "align_content": null,
            "align_items": null,
            "align_self": null,
            "border": null,
            "bottom": null,
            "display": null,
            "flex": null,
            "flex_flow": null,
            "grid_area": null,
            "grid_auto_columns": null,
            "grid_auto_flow": null,
            "grid_auto_rows": null,
            "grid_column": null,
            "grid_gap": null,
            "grid_row": null,
            "grid_template_areas": null,
            "grid_template_columns": null,
            "grid_template_rows": null,
            "height": null,
            "justify_content": null,
            "justify_items": null,
            "left": null,
            "margin": null,
            "max_height": null,
            "max_width": null,
            "min_height": null,
            "min_width": null,
            "object_fit": null,
            "object_position": null,
            "order": null,
            "overflow": null,
            "overflow_x": null,
            "overflow_y": null,
            "padding": null,
            "right": null,
            "top": null,
            "visibility": null,
            "width": null
          }
        },
        "e61178b51c4445958e822ccbf01943e3": {
          "model_module": "@jupyter-widgets/controls",
          "model_name": "DescriptionStyleModel",
          "model_module_version": "1.5.0",
          "state": {
            "_model_module": "@jupyter-widgets/controls",
            "_model_module_version": "1.5.0",
            "_model_name": "DescriptionStyleModel",
            "_view_count": null,
            "_view_module": "@jupyter-widgets/base",
            "_view_module_version": "1.2.0",
            "_view_name": "StyleView",
            "description_width": ""
          }
        },
        "058d8c0805be446b8a8e2a6dca5206e0": {
          "model_module": "@jupyter-widgets/base",
          "model_name": "LayoutModel",
          "model_module_version": "1.2.0",
          "state": {
            "_model_module": "@jupyter-widgets/base",
            "_model_module_version": "1.2.0",
            "_model_name": "LayoutModel",
            "_view_count": null,
            "_view_module": "@jupyter-widgets/base",
            "_view_module_version": "1.2.0",
            "_view_name": "LayoutView",
            "align_content": null,
            "align_items": null,
            "align_self": null,
            "border": null,
            "bottom": null,
            "display": null,
            "flex": null,
            "flex_flow": null,
            "grid_area": null,
            "grid_auto_columns": null,
            "grid_auto_flow": null,
            "grid_auto_rows": null,
            "grid_column": null,
            "grid_gap": null,
            "grid_row": null,
            "grid_template_areas": null,
            "grid_template_columns": null,
            "grid_template_rows": null,
            "height": null,
            "justify_content": null,
            "justify_items": null,
            "left": null,
            "margin": null,
            "max_height": null,
            "max_width": null,
            "min_height": null,
            "min_width": null,
            "object_fit": null,
            "object_position": null,
            "order": null,
            "overflow": null,
            "overflow_x": null,
            "overflow_y": null,
            "padding": null,
            "right": null,
            "top": null,
            "visibility": null,
            "width": null
          }
        },
        "04f328fde4944f1d93025c60aa39bbce": {
          "model_module": "@jupyter-widgets/controls",
          "model_name": "ProgressStyleModel",
          "model_module_version": "1.5.0",
          "state": {
            "_model_module": "@jupyter-widgets/controls",
            "_model_module_version": "1.5.0",
            "_model_name": "ProgressStyleModel",
            "_view_count": null,
            "_view_module": "@jupyter-widgets/base",
            "_view_module_version": "1.2.0",
            "_view_name": "StyleView",
            "bar_color": null,
            "description_width": ""
          }
        },
        "5cdcd81ab86f4fceb754ef654bbb7704": {
          "model_module": "@jupyter-widgets/base",
          "model_name": "LayoutModel",
          "model_module_version": "1.2.0",
          "state": {
            "_model_module": "@jupyter-widgets/base",
            "_model_module_version": "1.2.0",
            "_model_name": "LayoutModel",
            "_view_count": null,
            "_view_module": "@jupyter-widgets/base",
            "_view_module_version": "1.2.0",
            "_view_name": "LayoutView",
            "align_content": null,
            "align_items": null,
            "align_self": null,
            "border": null,
            "bottom": null,
            "display": null,
            "flex": null,
            "flex_flow": null,
            "grid_area": null,
            "grid_auto_columns": null,
            "grid_auto_flow": null,
            "grid_auto_rows": null,
            "grid_column": null,
            "grid_gap": null,
            "grid_row": null,
            "grid_template_areas": null,
            "grid_template_columns": null,
            "grid_template_rows": null,
            "height": null,
            "justify_content": null,
            "justify_items": null,
            "left": null,
            "margin": null,
            "max_height": null,
            "max_width": null,
            "min_height": null,
            "min_width": null,
            "object_fit": null,
            "object_position": null,
            "order": null,
            "overflow": null,
            "overflow_x": null,
            "overflow_y": null,
            "padding": null,
            "right": null,
            "top": null,
            "visibility": null,
            "width": null
          }
        },
        "016ed6999e814ff5a179089e2a8526a2": {
          "model_module": "@jupyter-widgets/controls",
          "model_name": "DescriptionStyleModel",
          "model_module_version": "1.5.0",
          "state": {
            "_model_module": "@jupyter-widgets/controls",
            "_model_module_version": "1.5.0",
            "_model_name": "DescriptionStyleModel",
            "_view_count": null,
            "_view_module": "@jupyter-widgets/base",
            "_view_module_version": "1.2.0",
            "_view_name": "StyleView",
            "description_width": ""
          }
        }
      }
    }
  },
  "nbformat": 4,
  "nbformat_minor": 0
}